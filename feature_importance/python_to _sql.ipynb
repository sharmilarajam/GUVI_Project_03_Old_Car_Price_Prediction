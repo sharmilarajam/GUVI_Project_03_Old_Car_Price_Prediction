{
 "cells": [
  {
   "cell_type": "code",
   "execution_count": 15,
   "id": "1b0f73cf",
   "metadata": {},
   "outputs": [
    {
     "name": "stdout",
     "output_type": "stream",
     "text": [
      "DataFrame imported successfully!\n"
     ]
    }
   ],
   "source": [
    "import pandas as pd\n",
    "from sqlalchemy import create_engine\n",
    "import pymysql\n",
    "\n",
    "# ✅ Correct path to your CSV file\n",
    "data = pd.read_csv(r'C:\\Users\\VINOTH\\Documents\\Sharmila_Projects\\GUVI_Project_03_Old_Car_Price_Prediction\\feature_importance\\feature_imp_data.csv', header=0)\n",
    "\n",
    "# Database connection details\n",
    "host = \"localhost\"\n",
    "port = \"3306\"\n",
    "user = \"root\"\n",
    "password = \"123456\"\n",
    "database = \"car\"\n",
    "\n",
    "# Create SQLAlchemy engine\n",
    "engine = create_engine(f\"mysql+pymysql://{user}:{password}@{host}:{port}/{database}\")\n",
    "\n",
    "# Export DataFrame to MySQL\n",
    "data.to_sql('price_prediction', con=engine, if_exists='replace', index=False)\n",
    "\n",
    "print(\"DataFrame imported successfully!\")\n"
   ]
  },
  {
   "cell_type": "code",
   "execution_count": null,
   "id": "fcd6a72e",
   "metadata": {},
   "outputs": [],
   "source": []
  }
 ],
 "metadata": {
  "kernelspec": {
   "display_name": "base",
   "language": "python",
   "name": "python3"
  },
  "language_info": {
   "codemirror_mode": {
    "name": "ipython",
    "version": 3
   },
   "file_extension": ".py",
   "mimetype": "text/x-python",
   "name": "python",
   "nbconvert_exporter": "python",
   "pygments_lexer": "ipython3",
   "version": "3.12.4"
  }
 },
 "nbformat": 4,
 "nbformat_minor": 5
}
