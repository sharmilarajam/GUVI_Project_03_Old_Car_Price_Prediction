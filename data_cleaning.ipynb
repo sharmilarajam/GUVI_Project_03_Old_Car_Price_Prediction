{
 "cells": [
  {
   "cell_type": "code",
   "execution_count": 11,
   "metadata": {},
   "outputs": [
    {
     "name": "stdout",
     "output_type": "stream",
     "text": [
      "{'it': 0, 'ft': 'Petrol', 'bt': 'Hatchback', 'km': '1,20,000', 'transmission': 'Manual', 'ownerNo': 3, 'owner': '3rd Owner', 'oem': 'Maruti', 'model': 'Maruti Celerio', 'modelYear': 2015, 'centralVariantId': 3979, 'variantName': 'VXI', 'price': '₹ 4 Lakh', 'priceActual': '', 'priceSaving': '', 'priceFixedText': None, 'trendingText': {'imgUrl': 'https://stimg.cardekho.com/used-cars/common/icons/trending.svg', 'heading': 'Trending Car!', 'desc': 'High chances of sale in next 6 days'}}\n",
      "   it      ft         bt        km transmission  ownerNo      owner     oem  \\\n",
      "0   0  Petrol  Hatchback  1,20,000       Manual        3  3rd Owner  Maruti   \n",
      "\n",
      "            model  modelYear  centralVariantId variantName     price  \\\n",
      "0  Maruti Celerio       2015              3979         VXI  ₹ 4 Lakh   \n",
      "\n",
      "  priceActual priceSaving priceFixedText  \\\n",
      "0                                   None   \n",
      "\n",
      "                                 trendingText.imgUrl trendingText.heading  \\\n",
      "0  https://stimg.cardekho.com/used-cars/common/ic...        Trending Car!   \n",
      "\n",
      "                     trendingText.desc  \n",
      "0  High chances of sale in next 6 days  \n"
     ]
    },
    {
     "data": {
      "text/plain": [
       "(1, 19)"
      ]
     },
     "execution_count": 11,
     "metadata": {},
     "output_type": "execute_result"
    }
   ],
   "source": [
    "import pandas as pd\n",
    "import json\n",
    "from pandas import json_normalize\n",
    "\n",
    "df=pd.read_excel(r'C:\\Users\\VINOTH\\Documents\\Sharmila_Projects\\GUVI_Project_03_Old_Car_Price_Prediction\\input_data\\bangalore_cars.xlsx',header=[0])\n",
    "df\n",
    "s=df['new_car_detail'].iloc[0]\n",
    "print(s)\n",
    "df['new_car_detail'].iloc[0].strip('\"')\n",
    "s = s.replace(\"'\", '\"').replace(\"None\", \"null\")\n",
    "data = json.loads(s)\n",
    "df_1 = pd.json_normalize(data)\n",
    "print(df_1)\n",
    "df_1.shape"
   ]
  },
  {
   "cell_type": "code",
   "execution_count": 12,
   "metadata": {},
   "outputs": [
    {
     "name": "stdout",
     "output_type": "stream",
     "text": [
      "{\n",
      "    \"heading\": \"Car overview\",\n",
      "    \"top\": [\n",
      "        {\n",
      "            \"key\": \"Registration Year\",\n",
      "            \"value\": \"Sept 2018\",\n",
      "            \"icon\": \"https://images10.gaadi.com/listing/vdp/co/v1/registrationYear.svg\"\n",
      "        },\n",
      "        {\n",
      "            \"key\": \"Insurance Validity\",\n",
      "            \"value\": \"Comprehensive\",\n",
      "            \"icon\": \"https://images10.gaadi.com/listing/vdp/co/v1/insuranceValidity.svg\"\n",
      "        },\n",
      "        {\n",
      "            \"key\": \"Fuel Type\",\n",
      "            \"value\": \"Petrol\",\n",
      "            \"icon\": \"https://images10.gaadi.com/listing/vdp/co/v1/fuel.svg\"\n",
      "        },\n",
      "        {\n",
      "            \"key\": \"Seats\",\n",
      "            \"value\": \"5 Seats\",\n",
      "            \"icon\": \"https://images10.gaadi.com/listing/vdp/co/v1/seats.svg\"\n",
      "        },\n",
      "        {\n",
      "            \"key\": \"Kms Driven\",\n",
      "            \"value\": \"11,949 Kms\",\n",
      "            \"icon\": \"https://images10.gaadi.com/listing/vdp/co/v1/kmsDriven.svg\"\n",
      "        },\n",
      "        {\n",
      "            \"key\": \"RTO\",\n",
      "            \"value\": \"KA03\",\n",
      "            \"icon\": \"https://images10.gaadi.com/listing/vdp/co/v1/rto.svg\"\n",
      "        },\n",
      "        {\n",
      "            \"key\": \"Ownership\",\n",
      "            \"value\": \"First Owner\",\n",
      "            \"icon\": \"https://images10.gaadi.com/listing/vdp/co/v1/ownership.svg\"\n",
      "        },\n",
      "        {\n",
      "            \"key\": \"Engine Displacement\",\n",
      "            \"value\": \"1199 cc\",\n",
      "            \"icon\": \"https://images10.gaadi.com/listing/vdp/co/v1/engineDisplacement.svg\"\n",
      "        },\n",
      "        {\n",
      "            \"key\": \"Transmission\",\n",
      "            \"value\": \"Manual\",\n",
      "            \"icon\": \"https://images10.gaadi.com/listing/vdp/co/v1/transmission.svg\"\n",
      "        },\n",
      "        {\n",
      "            \"key\": \"Year of Manufacture\",\n",
      "            \"value\": 2018,\n",
      "            \"icon\": \"https://images10.gaadi.com/listing/vdp/co/v1/yearManufacture.svg\"\n",
      "        }\n",
      "    ],\n",
      "    \"bottomData\": null\n",
      "}\n"
     ]
    }
   ],
   "source": [
    "import json\n",
    "\n",
    "# Your string (make sure it's properly formatted)\n",
    "data_str = \"\"\"{'heading': 'Car overview', 'top': [{'key': 'Registration Year', 'value': 'Sept 2018', 'icon': 'https://images10.gaadi.com/listing/vdp/co/v1/registrationYear.svg'}, {'key': 'Insurance Validity', 'value': 'Comprehensive', 'icon': 'https://images10.gaadi.com/listing/vdp/co/v1/insuranceValidity.svg'}, {'key': 'Fuel Type', 'value': 'Petrol', 'icon': 'https://images10.gaadi.com/listing/vdp/co/v1/fuel.svg'}, {'key': 'Seats', 'value': '5 Seats', 'icon': 'https://images10.gaadi.com/listing/vdp/co/v1/seats.svg'}, {'key': 'Kms Driven', 'value': '11,949 Kms', 'icon': 'https://images10.gaadi.com/listing/vdp/co/v1/kmsDriven.svg'}, {'key': 'RTO', 'value': 'KA03', 'icon': 'https://images10.gaadi.com/listing/vdp/co/v1/rto.svg'}, {'key': 'Ownership', 'value': 'First Owner', 'icon': 'https://images10.gaadi.com/listing/vdp/co/v1/ownership.svg'}, {'key': 'Engine Displacement', 'value': '1199 cc', 'icon': 'https://images10.gaadi.com/listing/vdp/co/v1/engineDisplacement.svg'}, {'key': 'Transmission', 'value': 'Manual', 'icon': 'https://images10.gaadi.com/listing/vdp/co/v1/transmission.svg'}, {'key': 'Year of Manufacture', 'value': 2018, 'icon': 'https://images10.gaadi.com/listing/vdp/co/v1/yearManufacture.svg'}], 'bottomData': None}\"\"\"\n",
    "\n",
    "# Convert single quotes to double quotes & fix None\n",
    "data_str = data_str.replace(\"'\", '\"').replace(\"None\", \"null\")\n",
    "\n",
    "# Convert to JSON object\n",
    "data_json = json.loads(data_str)\n",
    "\n",
    "# Print in JSON format\n",
    "print(json.dumps(data_json, indent=4))\n"
   ]
  },
  {
   "cell_type": "code",
   "execution_count": 13,
   "metadata": {},
   "outputs": [
    {
     "name": "stdout",
     "output_type": "stream",
     "text": [
      "                   key          value  \\\n",
      "0    Registration Year      Sept 2018   \n",
      "1   Insurance Validity  Comprehensive   \n",
      "2            Fuel Type         Petrol   \n",
      "3                Seats        5 Seats   \n",
      "4           Kms Driven     11,949 Kms   \n",
      "5                  RTO           KA03   \n",
      "6            Ownership    First Owner   \n",
      "7  Engine Displacement        1199 cc   \n",
      "8         Transmission         Manual   \n",
      "9  Year of Manufacture           2018   \n",
      "\n",
      "                                                icon  \n",
      "0  https://images10.gaadi.com/listing/vdp/co/v1/r...  \n",
      "1  https://images10.gaadi.com/listing/vdp/co/v1/i...  \n",
      "2  https://images10.gaadi.com/listing/vdp/co/v1/f...  \n",
      "3  https://images10.gaadi.com/listing/vdp/co/v1/s...  \n",
      "4  https://images10.gaadi.com/listing/vdp/co/v1/k...  \n",
      "5  https://images10.gaadi.com/listing/vdp/co/v1/r...  \n",
      "6  https://images10.gaadi.com/listing/vdp/co/v1/o...  \n",
      "7  https://images10.gaadi.com/listing/vdp/co/v1/e...  \n",
      "8  https://images10.gaadi.com/listing/vdp/co/v1/t...  \n",
      "9  https://images10.gaadi.com/listing/vdp/co/v1/y...  \n"
     ]
    }
   ],
   "source": [
    "import pandas as pd\n",
    "import json\n",
    "\n",
    "# JSON Data (as a Python dictionary)\n",
    "data_json = {\n",
    "    \"heading\": \"Car overview\",\n",
    "    \"top\": [\n",
    "        {\"key\": \"Registration Year\", \"value\": \"Sept 2018\", \"icon\": \"https://images10.gaadi.com/listing/vdp/co/v1/registrationYear.svg\"},\n",
    "        {\"key\": \"Insurance Validity\", \"value\": \"Comprehensive\", \"icon\": \"https://images10.gaadi.com/listing/vdp/co/v1/insuranceValidity.svg\"},\n",
    "        {\"key\": \"Fuel Type\", \"value\": \"Petrol\", \"icon\": \"https://images10.gaadi.com/listing/vdp/co/v1/fuel.svg\"},\n",
    "        {\"key\": \"Seats\", \"value\": \"5 Seats\", \"icon\": \"https://images10.gaadi.com/listing/vdp/co/v1/seats.svg\"},\n",
    "        {\"key\": \"Kms Driven\", \"value\": \"11,949 Kms\", \"icon\": \"https://images10.gaadi.com/listing/vdp/co/v1/kmsDriven.svg\"},\n",
    "        {\"key\": \"RTO\", \"value\": \"KA03\", \"icon\": \"https://images10.gaadi.com/listing/vdp/co/v1/rto.svg\"},\n",
    "        {\"key\": \"Ownership\", \"value\": \"First Owner\", \"icon\": \"https://images10.gaadi.com/listing/vdp/co/v1/ownership.svg\"},\n",
    "        {\"key\": \"Engine Displacement\", \"value\": \"1199 cc\", \"icon\": \"https://images10.gaadi.com/listing/vdp/co/v1/engineDisplacement.svg\"},\n",
    "        {\"key\": \"Transmission\", \"value\": \"Manual\", \"icon\": \"https://images10.gaadi.com/listing/vdp/co/v1/transmission.svg\"},\n",
    "        {\"key\": \"Year of Manufacture\", \"value\": 2018, \"icon\": \"https://images10.gaadi.com/listing/vdp/co/v1/yearManufacture.svg\"}\n",
    "    ],\n",
    "    \"bottomData\": None\n",
    "}\n",
    "\n",
    "# Convert the 'top' section into a DataFrame\n",
    "df = pd.DataFrame(data_json['top'])\n",
    "\n",
    "# Display the DataFrame\n",
    "print(df)\n"
   ]
  },
  {
   "cell_type": "code",
   "execution_count": 14,
   "metadata": {},
   "outputs": [
    {
     "name": "stdout",
     "output_type": "stream",
     "text": [
      "key Registration Year Insurance Validity Fuel Type    Seats  Kms Driven   RTO  \\\n",
      "0           Sept 2018      Comprehensive    Petrol  5 Seats  11,949 Kms  KA03   \n",
      "\n",
      "key    Ownership Engine Displacement Transmission Year of Manufacture  \n",
      "0    First Owner             1199 cc       Manual                2018  \n"
     ]
    }
   ],
   "source": [
    "import pandas as pd\n",
    "import json\n",
    "\n",
    "# JSON Data\n",
    "data_json = {\n",
    "    \"heading\": \"Car overview\",\n",
    "    \"top\": [\n",
    "        {\"key\": \"Registration Year\", \"value\": \"Sept 2018\"},\n",
    "        {\"key\": \"Insurance Validity\", \"value\": \"Comprehensive\"},\n",
    "        {\"key\": \"Fuel Type\", \"value\": \"Petrol\"},\n",
    "        {\"key\": \"Seats\", \"value\": \"5 Seats\"},\n",
    "        {\"key\": \"Kms Driven\", \"value\": \"11,949 Kms\"},\n",
    "        {\"key\": \"RTO\", \"value\": \"KA03\"},\n",
    "        {\"key\": \"Ownership\", \"value\": \"First Owner\"},\n",
    "        {\"key\": \"Engine Displacement\", \"value\": \"1199 cc\"},\n",
    "        {\"key\": \"Transmission\", \"value\": \"Manual\"},\n",
    "        {\"key\": \"Year of Manufacture\", \"value\": 2018}\n",
    "    ],\n",
    "    \"bottomData\": None\n",
    "}\n",
    "\n",
    "# Convert to DataFrame\n",
    "df = pd.DataFrame(data_json['top'])\n",
    "\n",
    "# Convert to wide format (keys as columns, values as row)\n",
    "df = df.set_index('key').T\n",
    "\n",
    "# Reset index to make it look like a normal table\n",
    "df.reset_index(drop=True, inplace=True)\n",
    "\n",
    "# Display the DataFrame\n",
    "print(df)\n"
   ]
  },
  {
   "cell_type": "code",
   "execution_count": 15,
   "metadata": {},
   "outputs": [
    {
     "name": "stdout",
     "output_type": "stream",
     "text": [
      "key Engine Displacement Fuel Type     Insurance Validity    Kms Driven  \\\n",
      "0                   NaN       NaN                    NaN           NaN   \n",
      "1                   NaN       NaN  Third Party insurance           NaN   \n",
      "2                   NaN    Petrol                    NaN           NaN   \n",
      "3                   NaN       NaN                    NaN           NaN   \n",
      "4                   NaN       NaN                    NaN  1,20,000 Kms   \n",
      "5                   NaN       NaN                    NaN           NaN   \n",
      "6                   NaN       NaN                    NaN           NaN   \n",
      "7                998 cc       NaN                    NaN           NaN   \n",
      "8                   NaN       NaN                    NaN           NaN   \n",
      "9                   NaN       NaN                    NaN           NaN   \n",
      "\n",
      "key    Ownership   RTO Registration Year    Seats Transmission  \\\n",
      "0            NaN   NaN              2015      NaN          NaN   \n",
      "1            NaN   NaN               NaN      NaN          NaN   \n",
      "2            NaN   NaN               NaN      NaN          NaN   \n",
      "3            NaN   NaN               NaN  5 Seats          NaN   \n",
      "4            NaN   NaN               NaN      NaN          NaN   \n",
      "5            NaN  KA51               NaN      NaN          NaN   \n",
      "6    Third Owner   NaN               NaN      NaN          NaN   \n",
      "7            NaN   NaN               NaN      NaN          NaN   \n",
      "8            NaN   NaN               NaN      NaN       Manual   \n",
      "9            NaN   NaN               NaN      NaN          NaN   \n",
      "\n",
      "key Year of Manufacture  \n",
      "0                   NaN  \n",
      "1                   NaN  \n",
      "2                   NaN  \n",
      "3                   NaN  \n",
      "4                   NaN  \n",
      "5                   NaN  \n",
      "6                   NaN  \n",
      "7                   NaN  \n",
      "8                   NaN  \n",
      "9                  2015  \n"
     ]
    }
   ],
   "source": [
    "import pandas as pd\n",
    "df=pd.read_excel(r'C:\\Users\\VINOTH\\Documents\\Sharmila_Projects\\GUVI_Project_03_Old_Car_Price_Prediction\\input_data\\bangalore_cars.xlsx',header=[0])\n",
    "# df\n",
    "# s=df['new_car_detail'].iloc[0]\n",
    "data_str=df['new_car_overview'].iloc[0]\n",
    "data_str = data_str.replace(\"'\", '\"').replace(\"None\", \"null\")\n",
    "# Convert to JSON object\n",
    "data_json = json.loads(data_str)\n",
    "\n",
    "\n",
    "\n",
    "# Convert JSON to DataFrame\n",
    "df = pd.DataFrame(data_json['top'])\n",
    "\n",
    "# Transform: Convert 'key' values into columns & 'value' into row\n",
    "df = df.pivot(columns=\"key\", values=\"value\")\n",
    "\n",
    "# Reset index to make it look like a clean table\n",
    "df = df.reset_index(drop=True)\n",
    "\n",
    "# Display DataFrame\n",
    "print(df)\n"
   ]
  },
  {
   "cell_type": "code",
   "execution_count": 16,
   "metadata": {},
   "outputs": [
    {
     "data": {
      "text/plain": [
       "10"
      ]
     },
     "execution_count": 16,
     "metadata": {},
     "output_type": "execute_result"
    }
   ],
   "source": [
    "df.shape[0]\n"
   ]
  },
  {
   "cell_type": "code",
   "execution_count": 17,
   "metadata": {},
   "outputs": [
    {
     "data": {
      "text/plain": [
       "10"
      ]
     },
     "execution_count": 17,
     "metadata": {},
     "output_type": "execute_result"
    }
   ],
   "source": [
    "len(df)\n"
   ]
  },
  {
   "cell_type": "code",
   "execution_count": 18,
   "metadata": {},
   "outputs": [
    {
     "name": "stdout",
     "output_type": "stream",
     "text": [
      "Rows in original df: 1481\n"
     ]
    }
   ],
   "source": [
    "import pandas as pd\n",
    "import json\n",
    "from pandas import json_normalize\n",
    "df=pd.read_excel(r'C:\\Users\\VINOTH\\Documents\\Sharmila_Projects\\GUVI_Project_03_Old_Car_Price_Prediction\\input_data\\bangalore_cars.xlsx',header=[0])\n",
    "df_6=df['new_car_overview']\n",
    "\n",
    "print(\"Rows in original df:\", len(df_6))"
   ]
  },
  {
   "cell_type": "code",
   "execution_count": 19,
   "metadata": {},
   "outputs": [
    {
     "ename": "SyntaxError",
     "evalue": "unterminated string literal (detected at line 5) (2633100528.py, line 5)",
     "output_type": "error",
     "traceback": [
      "\u001b[1;36m  Cell \u001b[1;32mIn[19], line 5\u001b[1;36m\u001b[0m\n\u001b[1;33m    df = pd.read_excel('C:\\Users\\VINOTH\\Documents\\Sharmila_Projects\\GUVI_Project_03_Old_Car_Price_Prediction\\input_data\\bangalore_cars.xlsx',header=[0]')\u001b[0m\n\u001b[1;37m                                                                                                                                                       ^\u001b[0m\n\u001b[1;31mSyntaxError\u001b[0m\u001b[1;31m:\u001b[0m unterminated string literal (detected at line 5)\n"
     ]
    }
   ],
   "source": [
    "import pandas as pd\n",
    "import json\n",
    "\n",
    "# Load your Excel file\n",
    "df = pd.read_excel('C:\\Users\\VINOTH\\Documents\\Sharmila_Projects\\GUVI_Project_03_Old_Car_Price_Prediction\\input_data\\bangalore_cars.xlsx',header=[0]')\n",
    "\n",
    "# Clean the 'new_car_detail' column\n",
    "df['cleaned'] = (\n",
    "    df['new_car_overview']\n",
    "    .str.replace(\"'\", '\"')\n",
    "    .str.replace(\"None\", \"null\")\n",
    ")\n",
    "\n",
    "# Convert each row's JSON string into a dict\n",
    "def parse_json(s):\n",
    "    try:\n",
    "        return json.loads(s)['top']\n",
    "    except:\n",
    "        return None\n",
    "\n",
    "df['parsed'] = df['cleaned'].apply(parse_json)\n",
    "\n",
    "# Flatten each list of dicts into one row\n",
    "rows = []\n",
    "for row in df['parsed']:\n",
    "    if isinstance(row, list):\n",
    "        row_dict = {item['key']: item['value'] for item in row}\n",
    "        rows.append(row_dict)\n",
    "\n",
    "df_flat = pd.DataFrame(rows)\n",
    "\n",
    "# Final check\n",
    "print(\"Parsed DataFrame rows:\", len(df_flat))\n",
    "print(df_flat.head())\n"
   ]
  },
  {
   "cell_type": "code",
   "execution_count": null,
   "metadata": {},
   "outputs": [],
   "source": []
  },
  {
   "cell_type": "code",
   "execution_count": null,
   "metadata": {},
   "outputs": [
    {
     "name": "stdout",
     "output_type": "stream",
     "text": [
      "0       {'heading': 'Car overview', 'top': [{'key': 'R...\n",
      "1       {'heading': 'Car overview', 'top': [{'key': 'R...\n",
      "2       {'heading': 'Car overview', 'top': [{'key': 'R...\n",
      "3       {'heading': 'Car overview', 'top': [{'key': 'R...\n",
      "4       {'heading': 'Car overview', 'top': [{'key': 'R...\n",
      "                              ...                        \n",
      "1476    {'heading': 'Car overview', 'top': [{'key': 'R...\n",
      "1477    {'heading': 'Car overview', 'top': [{'key': 'R...\n",
      "1478    {'heading': 'Car overview', 'top': [{'key': 'R...\n",
      "1479    {'heading': 'Car overview', 'top': [{'key': 'R...\n",
      "1480    {'heading': 'Car overview', 'top': [{'key': 'R...\n",
      "Name: new_car_overview, Length: 1481, dtype: object\n"
     ]
    }
   ],
   "source": [
    "import pandas as pd\n",
    "import json\n",
    "from pandas import json_normalize\n",
    "df=pd.read_excel(r'C:\\Users\\VINOTH\\Documents\\Sharmila_Projects\\GUVI_Project_03_Old_Car_Price_Prediction\\input_data\\bangalore_cars.xlsx',header=[0])\n",
    "s=df['new_car_overview']\n",
    "print(s)\n",
    "\n",
    "s = df['new_car_detail'].str.strip('\"').str.replace(\"'\", '\"').str.replace(\"None\", \"null\")\n",
    "\n",
    "data = s.apply(json.loads)  # If each row is a separate JSON string\n",
    "df_1 = pd.json_normalize(data)\n"
   ]
  },
  {
   "cell_type": "code",
   "execution_count": null,
   "metadata": {},
   "outputs": [
    {
     "ename": "KeyError",
     "evalue": "'new car feature'",
     "output_type": "error",
     "traceback": [
      "\u001b[1;31m---------------------------------------------------------------------------\u001b[0m",
      "\u001b[1;31mKeyError\u001b[0m                                  Traceback (most recent call last)",
      "File \u001b[1;32mc:\\ProgramData\\anaconda3\\Lib\\site-packages\\pandas\\core\\indexes\\base.py:3805\u001b[0m, in \u001b[0;36mIndex.get_loc\u001b[1;34m(self, key)\u001b[0m\n\u001b[0;32m   3804\u001b[0m \u001b[38;5;28;01mtry\u001b[39;00m:\n\u001b[1;32m-> 3805\u001b[0m     \u001b[38;5;28;01mreturn\u001b[39;00m \u001b[38;5;28mself\u001b[39m\u001b[38;5;241m.\u001b[39m_engine\u001b[38;5;241m.\u001b[39mget_loc(casted_key)\n\u001b[0;32m   3806\u001b[0m \u001b[38;5;28;01mexcept\u001b[39;00m \u001b[38;5;167;01mKeyError\u001b[39;00m \u001b[38;5;28;01mas\u001b[39;00m err:\n",
      "File \u001b[1;32mindex.pyx:167\u001b[0m, in \u001b[0;36mpandas._libs.index.IndexEngine.get_loc\u001b[1;34m()\u001b[0m\n",
      "File \u001b[1;32mindex.pyx:196\u001b[0m, in \u001b[0;36mpandas._libs.index.IndexEngine.get_loc\u001b[1;34m()\u001b[0m\n",
      "File \u001b[1;32mpandas\\\\_libs\\\\hashtable_class_helper.pxi:7081\u001b[0m, in \u001b[0;36mpandas._libs.hashtable.PyObjectHashTable.get_item\u001b[1;34m()\u001b[0m\n",
      "File \u001b[1;32mpandas\\\\_libs\\\\hashtable_class_helper.pxi:7089\u001b[0m, in \u001b[0;36mpandas._libs.hashtable.PyObjectHashTable.get_item\u001b[1;34m()\u001b[0m\n",
      "\u001b[1;31mKeyError\u001b[0m: 'new car feature'",
      "\nThe above exception was the direct cause of the following exception:\n",
      "\u001b[1;31mKeyError\u001b[0m                                  Traceback (most recent call last)",
      "Cell \u001b[1;32mIn[12], line 9\u001b[0m\n\u001b[0;32m      5\u001b[0m df\u001b[38;5;241m=\u001b[39mpd\u001b[38;5;241m.\u001b[39mread_excel(\u001b[38;5;124mr\u001b[39m\u001b[38;5;124m'\u001b[39m\u001b[38;5;124mC:\u001b[39m\u001b[38;5;124m\\\u001b[39m\u001b[38;5;124mUsers\u001b[39m\u001b[38;5;124m\\\u001b[39m\u001b[38;5;124mVINOTH\u001b[39m\u001b[38;5;124m\\\u001b[39m\u001b[38;5;124mDocuments\u001b[39m\u001b[38;5;124m\\\u001b[39m\u001b[38;5;124mSharmila_Projects\u001b[39m\u001b[38;5;124m\\\u001b[39m\u001b[38;5;124mGUVI_Project_03_Old_Car_Price_Prediction\u001b[39m\u001b[38;5;124m\\\u001b[39m\u001b[38;5;124minput_data\u001b[39m\u001b[38;5;124m\\\u001b[39m\u001b[38;5;124mbangalore_cars.xlsx\u001b[39m\u001b[38;5;124m'\u001b[39m,header\u001b[38;5;241m=\u001b[39m[\u001b[38;5;241m0\u001b[39m])\n\u001b[0;32m      6\u001b[0m \u001b[38;5;66;03m#df = pd.read_excel('bangalore_cars.xlsx')\u001b[39;00m\n\u001b[1;32m----> 9\u001b[0m s\u001b[38;5;241m=\u001b[39mdf[\u001b[38;5;124m'\u001b[39m\u001b[38;5;124mnew car feature\u001b[39m\u001b[38;5;124m'\u001b[39m]\n\u001b[0;32m     10\u001b[0m \u001b[38;5;28mprint\u001b[39m(s)\n\u001b[0;32m     12\u001b[0m s \u001b[38;5;241m=\u001b[39m df[\u001b[38;5;124m'\u001b[39m\u001b[38;5;124mnew car feature\u001b[39m\u001b[38;5;124m'\u001b[39m]\u001b[38;5;241m.\u001b[39mstr\u001b[38;5;241m.\u001b[39mstrip(\u001b[38;5;124m'\u001b[39m\u001b[38;5;124m\"\u001b[39m\u001b[38;5;124m'\u001b[39m)\u001b[38;5;241m.\u001b[39mstr\u001b[38;5;241m.\u001b[39mreplace(\u001b[38;5;124m\"\u001b[39m\u001b[38;5;124m'\u001b[39m\u001b[38;5;124m\"\u001b[39m, \u001b[38;5;124m'\u001b[39m\u001b[38;5;124m\"\u001b[39m\u001b[38;5;124m'\u001b[39m)\u001b[38;5;241m.\u001b[39mstr\u001b[38;5;241m.\u001b[39mreplace(\u001b[38;5;124m\"\u001b[39m\u001b[38;5;124mNone\u001b[39m\u001b[38;5;124m\"\u001b[39m, \u001b[38;5;124m\"\u001b[39m\u001b[38;5;124mnull\u001b[39m\u001b[38;5;124m\"\u001b[39m)\n",
      "File \u001b[1;32mc:\\ProgramData\\anaconda3\\Lib\\site-packages\\pandas\\core\\frame.py:4102\u001b[0m, in \u001b[0;36mDataFrame.__getitem__\u001b[1;34m(self, key)\u001b[0m\n\u001b[0;32m   4100\u001b[0m \u001b[38;5;28;01mif\u001b[39;00m \u001b[38;5;28mself\u001b[39m\u001b[38;5;241m.\u001b[39mcolumns\u001b[38;5;241m.\u001b[39mnlevels \u001b[38;5;241m>\u001b[39m \u001b[38;5;241m1\u001b[39m:\n\u001b[0;32m   4101\u001b[0m     \u001b[38;5;28;01mreturn\u001b[39;00m \u001b[38;5;28mself\u001b[39m\u001b[38;5;241m.\u001b[39m_getitem_multilevel(key)\n\u001b[1;32m-> 4102\u001b[0m indexer \u001b[38;5;241m=\u001b[39m \u001b[38;5;28mself\u001b[39m\u001b[38;5;241m.\u001b[39mcolumns\u001b[38;5;241m.\u001b[39mget_loc(key)\n\u001b[0;32m   4103\u001b[0m \u001b[38;5;28;01mif\u001b[39;00m is_integer(indexer):\n\u001b[0;32m   4104\u001b[0m     indexer \u001b[38;5;241m=\u001b[39m [indexer]\n",
      "File \u001b[1;32mc:\\ProgramData\\anaconda3\\Lib\\site-packages\\pandas\\core\\indexes\\base.py:3812\u001b[0m, in \u001b[0;36mIndex.get_loc\u001b[1;34m(self, key)\u001b[0m\n\u001b[0;32m   3807\u001b[0m     \u001b[38;5;28;01mif\u001b[39;00m \u001b[38;5;28misinstance\u001b[39m(casted_key, \u001b[38;5;28mslice\u001b[39m) \u001b[38;5;129;01mor\u001b[39;00m (\n\u001b[0;32m   3808\u001b[0m         \u001b[38;5;28misinstance\u001b[39m(casted_key, abc\u001b[38;5;241m.\u001b[39mIterable)\n\u001b[0;32m   3809\u001b[0m         \u001b[38;5;129;01mand\u001b[39;00m \u001b[38;5;28many\u001b[39m(\u001b[38;5;28misinstance\u001b[39m(x, \u001b[38;5;28mslice\u001b[39m) \u001b[38;5;28;01mfor\u001b[39;00m x \u001b[38;5;129;01min\u001b[39;00m casted_key)\n\u001b[0;32m   3810\u001b[0m     ):\n\u001b[0;32m   3811\u001b[0m         \u001b[38;5;28;01mraise\u001b[39;00m InvalidIndexError(key)\n\u001b[1;32m-> 3812\u001b[0m     \u001b[38;5;28;01mraise\u001b[39;00m \u001b[38;5;167;01mKeyError\u001b[39;00m(key) \u001b[38;5;28;01mfrom\u001b[39;00m \u001b[38;5;21;01merr\u001b[39;00m\n\u001b[0;32m   3813\u001b[0m \u001b[38;5;28;01mexcept\u001b[39;00m \u001b[38;5;167;01mTypeError\u001b[39;00m:\n\u001b[0;32m   3814\u001b[0m     \u001b[38;5;66;03m# If we have a listlike key, _check_indexing_error will raise\u001b[39;00m\n\u001b[0;32m   3815\u001b[0m     \u001b[38;5;66;03m#  InvalidIndexError. Otherwise we fall through and re-raise\u001b[39;00m\n\u001b[0;32m   3816\u001b[0m     \u001b[38;5;66;03m#  the TypeError.\u001b[39;00m\n\u001b[0;32m   3817\u001b[0m     \u001b[38;5;28mself\u001b[39m\u001b[38;5;241m.\u001b[39m_check_indexing_error(key)\n",
      "\u001b[1;31mKeyError\u001b[0m: 'new car feature'"
     ]
    }
   ],
   "source": [
    "import pandas as pd\n",
    "import json\n",
    "\n",
    "# Load your Excel file\n",
    "df=pd.read_excel(r'C:\\Users\\VINOTH\\Documents\\Sharmila_Projects\\GUVI_Project_03_Old_Car_Price_Prediction\\input_data\\bangalore_cars.xlsx',header=[0])\n",
    "#df = pd.read_excel('bangalore_cars.xlsx')\n",
    "\n",
    "\n",
    "s=df['']\n",
    "print(s)\n",
    "\n",
    "s = df['new car feature'].str.strip('\"').str.replace(\"'\", '\"').str.replace(\"None\", \"null\")\n",
    "\n",
    "data = s.apply(json.loads)  # If each row is a separate JSON string\n",
    "df_1 = pd.json_normalize(data)\n"
   ]
  },
  {
   "cell_type": "code",
   "execution_count": null,
   "metadata": {},
   "outputs": [
    {
     "name": "stdout",
     "output_type": "stream",
     "text": [
      "        Car_ID                       Category                 Feature\n",
      "0            0                        General          Power Steering\n",
      "1            0                        General     Power Windows Front\n",
      "2            0                        General         Air Conditioner\n",
      "3            0                        General                  Heater\n",
      "4            0                        General  Adjustable Head Lights\n",
      "...        ...                            ...                     ...\n",
      "112668    1480  Entertainment & Communication          Speakers Front\n",
      "112669    1480  Entertainment & Communication           Speakers Rear\n",
      "112670    1480  Entertainment & Communication    Integrated2Din Audio\n",
      "112671    1480  Entertainment & Communication     Usb Auxiliary Input\n",
      "112672    1480  Entertainment & Communication               Bluetooth\n",
      "\n",
      "[112673 rows x 3 columns]\n"
     ]
    }
   ],
   "source": [
    "import pandas as pd\n",
    "import json\n",
    "\n",
    "# Load your dataset\n",
    "df=pd.read_excel(r'C:\\Users\\VINOTH\\Documents\\Sharmila_Projects\\GUVI_Project_03_Old_Car_Price_Prediction\\input_data\\bangalore_cars.xlsx',header=[0])\n",
    "# df = pd.read_excel(\"bangalore_cars.xlsx\")  \n",
    "\n",
    "# Step 1: Convert the JSON-like column into dictionaries\n",
    "def parse_json(x):\n",
    "    try:\n",
    "        if isinstance(x, str):\n",
    "            x = x.replace(\"'\", '\"').replace(\"None\", \"null\")  # Fix formatting\n",
    "            return json.loads(x)\n",
    "        return x\n",
    "    except:\n",
    "        return None  # Handle errors\n",
    "\n",
    "df['parsed'] = df['new_car_feature'].apply(parse_json)  # Change 'features_column' to your actual column name\n",
    "\n",
    "# Step 2: Extract 'top' features\n",
    "def extract_top_features(row):\n",
    "    try:\n",
    "        return [item['value'] for item in row['top']]  # Extracting all 'top' features\n",
    "    except:\n",
    "        return []\n",
    "\n",
    "df['top_features'] = df['parsed'].apply(extract_top_features)\n",
    "\n",
    "# Step 3: Extract 'data' features (categorized)\n",
    "def extract_category_features(row):\n",
    "    features = []\n",
    "    try:\n",
    "        for category in row['data']:\n",
    "            category_name = category['heading']  # Example: Comfort, Safety\n",
    "            for item in category['list']:\n",
    "                features.append((category_name, item['value']))  # Store (Category, Feature)\n",
    "    except:\n",
    "        pass\n",
    "    return features\n",
    "\n",
    "df['category_features'] = df['parsed'].apply(extract_category_features)\n",
    "\n",
    "# Step 4: Flatten into a structured DataFrame\n",
    "rows = []\n",
    "for index, row in df.iterrows():\n",
    "    car_id = index  # Unique row ID\n",
    "    # Add 'top' features\n",
    "    for feature in row['top_features']:\n",
    "        rows.append({'Car_ID': car_id, 'Category': 'General', 'Feature': feature})\n",
    "    \n",
    "    # Add 'data' (categorized) features\n",
    "    for category, feature in row['category_features']:\n",
    "        rows.append({'Car_ID': car_id, 'Category': category, 'Feature': feature})\n",
    "\n",
    "# Convert to DataFrame\n",
    "df_flat = pd.DataFrame(rows)\n",
    "\n",
    "# ✅ Final Output\n",
    "print(df_flat)  # View first 5 rows\n",
    "df_flat.to_excel(\"cleaned_features.xlsx\", index=False)  # Save as Excel\n"
   ]
  },
  {
   "cell_type": "code",
   "execution_count": null,
   "metadata": {},
   "outputs": [
    {
     "name": "stdout",
     "output_type": "stream",
     "text": [
      "   car_id     Category1                                           Feature1  \\\n",
      "0       0  Top Features  Power Steering, Power Windows Front, Air Condi...   \n",
      "1       1  Top Features  Power Steering, Power Windows Front, Air Condi...   \n",
      "2       2  Top Features  Power Steering, Power Windows Front, Air Condi...   \n",
      "3       3  Top Features  Power Steering, Power Windows Front, Air Condi...   \n",
      "4       4  Top Features  Power Steering, Power Windows Front, Air Condi...   \n",
      "\n",
      "                         Category2  \\\n",
      "0  Comfort & Convenience - Comfort   \n",
      "1  Comfort & Convenience - Comfort   \n",
      "2  Comfort & Convenience - Comfort   \n",
      "3  Comfort & Convenience - Comfort   \n",
      "4  Comfort & Convenience - Comfort   \n",
      "\n",
      "                                            Feature2            Category3  \\\n",
      "0  Power Steering, Power Windows Front, Power Win...  Interior - Interior   \n",
      "1  Power Steering, Power Windows Front, Power Win...  Interior - Interior   \n",
      "2  Power Steering, Power Windows Front, Power Win...  Interior - Interior   \n",
      "3  Power Steering, Power Windows Front, Power Win...  Interior - Interior   \n",
      "4  Power Steering, Power Windows Front, Power Win...  Interior - Interior   \n",
      "\n",
      "                                            Feature3            Category4  \\\n",
      "0  Air Conditioner, Heater, Digital Odometer, Ele...  Exterior - Exterior   \n",
      "1  Air Conditioner, Heater, Adjustable Steering, ...  Exterior - Exterior   \n",
      "2  Air Conditioner, Heater, Adjustable Steering, ...  Exterior - Exterior   \n",
      "3  Air Conditioner, Heater, Adjustable Steering, ...  Exterior - Exterior   \n",
      "4  Air Conditioner, Heater, Adjustable Steering, ...  Exterior - Exterior   \n",
      "\n",
      "                                            Feature4  \n",
      "0  Adjustable Head Lights, Manually Adjustable Ex...  \n",
      "1  Adjustable Head Lights, Fog Lights Front, Powe...  \n",
      "2  Adjustable Head Lights, Fog Lights Front, Powe...  \n",
      "3  Adjustable Head Lights, Fog Lights Front, Powe...  \n",
      "4  Adjustable Head Lights, Fog Lights Front, Powe...  \n"
     ]
    },
    {
     "data": {
      "text/plain": [
       "1481"
      ]
     },
     "execution_count": 4,
     "metadata": {},
     "output_type": "execute_result"
    }
   ],
   "source": [
    "import pandas as pd\n",
    "import json\n",
    "\n",
    "# Step 1: Load Excel file\n",
    "#df = pd.read_excel(\"bangalore_cars.xlsx\")  # Update with your correct file path\n",
    "df=pd.read_excel(r'C:\\Users\\VINOTH\\Documents\\Sharmila_Projects\\GUVI_Project_03_Old_Car_Price_Prediction\\input_data\\bangalore_cars.xlsx',header=[0])\n",
    "\n",
    "# Step 2: Parse JSON safely\n",
    "def parse_json(x):\n",
    "    try:\n",
    "        if isinstance(x, str):\n",
    "            x = x.replace(\"'\", '\"').replace(\"None\", \"null\")\n",
    "            return json.loads(x)\n",
    "    except:\n",
    "        pass\n",
    "    return None\n",
    "\n",
    "df['parsed'] = df['new_car_feature'].apply(parse_json)  # Replace with actual column name\n",
    "\n",
    "# Step 3: Extract features for each row\n",
    "def extract_features(row, car_id):\n",
    "    result = {\"car_id\": car_id}\n",
    "    try:\n",
    "        # Category 1: 'top' section\n",
    "        result[\"Category1\"] = \"Top Features\"\n",
    "        result[\"Feature1\"] = \", \".join([item.get(\"value\", \"\") for item in row.get(\"top\", [])])\n",
    "\n",
    "        # Categories 2–4 from 'data' section\n",
    "        for i, section in enumerate(row.get(\"data\", [])[:3]):\n",
    "            result[f\"Category{i+2}\"] = f\"{section.get('heading', '')} - {section.get('subHeading', '')}\"\n",
    "            result[f\"Feature{i+2}\"] = \", \".join([f.get(\"value\", \"\") for f in section.get(\"list\", [])])\n",
    "    except Exception as e:\n",
    "        print(f\"Error at car_id {car_id}: {e}\")\n",
    "    return result\n",
    "\n",
    "# Step 4: Build final dataframe\n",
    "records = []\n",
    "for idx, row in df.iterrows():\n",
    "    parsed = row['parsed']\n",
    "    car_id = row.get('car_id', idx)  # Use existing 'car_id' if present\n",
    "    if parsed:\n",
    "        records.append(extract_features(parsed, car_id))\n",
    "\n",
    "final_df = pd.DataFrame(records)\n",
    "\n",
    "# ✅ View and export\n",
    "print(final_df.head())\n",
    "# final_df.to_excel(\"car_features_cleaned.xlsx\", index=False)\n",
    "#len(df)"
   ]
  },
  {
   "cell_type": "code",
   "execution_count": null,
   "metadata": {},
   "outputs": [
    {
     "name": "stdout",
     "output_type": "stream",
     "text": [
      "Rows in final DataFrame: 1481\n",
      "      Mileage   Engine  Max Power    Torque Seats Wheel Size\n",
      "0   23.1 kmpl   998 CC   67.04bhp      90Nm     5        NaN\n",
      "1     17 kmpl  1497 CC  121.31bhp     150Nm     5         16\n",
      "2  23.84 kmpl  1199 CC      84bhp     114Nm     5         14\n",
      "3   19.1 kmpl  1197 CC   81.86bhp  113.75Nm     5         14\n",
      "4  23.65 kmpl  1248 CC    88.5bhp     200Nm     5         16\n"
     ]
    }
   ],
   "source": []
  },
  {
   "cell_type": "code",
   "execution_count": null,
   "metadata": {},
   "outputs": [
    {
     "ename": "NameError",
     "evalue": "name 'df_all' is not defined",
     "output_type": "error",
     "traceback": [
      "\u001b[1;31m---------------------------------------------------------------------------\u001b[0m",
      "\u001b[1;31mNameError\u001b[0m                                 Traceback (most recent call last)",
      "Cell \u001b[1;32mIn[1], line 1\u001b[0m\n\u001b[1;32m----> 1\u001b[0m \u001b[38;5;28mprint\u001b[39m(df_all\u001b[38;5;241m.\u001b[39mdtypes)\n",
      "\u001b[1;31mNameError\u001b[0m: name 'df_all' is not defined"
     ]
    }
   ],
   "source": [
    "print(df_all.dtypes)"
   ]
  },
  {
   "cell_type": "code",
   "execution_count": null,
   "metadata": {},
   "outputs": [
    {
     "ename": "NameError",
     "evalue": "name 'df_all' is not defined",
     "output_type": "error",
     "traceback": [
      "\u001b[1;31m---------------------------------------------------------------------------\u001b[0m",
      "\u001b[1;31mNameError\u001b[0m                                 Traceback (most recent call last)",
      "Cell \u001b[1;32mIn[10], line 20\u001b[0m\n\u001b[0;32m      6\u001b[0m selected_features \u001b[38;5;241m=\u001b[39m [\n\u001b[0;32m      7\u001b[0m     \u001b[38;5;124m'\u001b[39m\u001b[38;5;124mit\u001b[39m\u001b[38;5;124m'\u001b[39m, \u001b[38;5;124m'\u001b[39m\u001b[38;5;124mft\u001b[39m\u001b[38;5;124m'\u001b[39m, \u001b[38;5;124m'\u001b[39m\u001b[38;5;124mbt\u001b[39m\u001b[38;5;124m'\u001b[39m, \u001b[38;5;124m'\u001b[39m\u001b[38;5;124mkm\u001b[39m\u001b[38;5;124m'\u001b[39m, \u001b[38;5;124m'\u001b[39m\u001b[38;5;124mownerNo\u001b[39m\u001b[38;5;124m'\u001b[39m, \u001b[38;5;124m'\u001b[39m\u001b[38;5;124mowner\u001b[39m\u001b[38;5;124m'\u001b[39m, \u001b[38;5;124m'\u001b[39m\u001b[38;5;124moem\u001b[39m\u001b[38;5;124m'\u001b[39m, \u001b[38;5;124m'\u001b[39m\u001b[38;5;124mmodel\u001b[39m\u001b[38;5;124m'\u001b[39m, \u001b[38;5;124m'\u001b[39m\u001b[38;5;124mmodelYear\u001b[39m\u001b[38;5;124m'\u001b[39m,\n\u001b[0;32m      8\u001b[0m     \u001b[38;5;124m'\u001b[39m\u001b[38;5;124mcentralVariantId\u001b[39m\u001b[38;5;124m'\u001b[39m, \u001b[38;5;124m'\u001b[39m\u001b[38;5;124mvariantName\u001b[39m\u001b[38;5;124m'\u001b[39m, \u001b[38;5;124m'\u001b[39m\u001b[38;5;124mprice\u001b[39m\u001b[38;5;124m'\u001b[39m, \u001b[38;5;124m'\u001b[39m\u001b[38;5;124mpriceActual\u001b[39m\u001b[38;5;124m'\u001b[39m, \u001b[38;5;124m'\u001b[39m\u001b[38;5;124mpriceSaving\u001b[39m\u001b[38;5;124m'\u001b[39m, \u001b[38;5;124m'\u001b[39m\u001b[38;5;124mpriceFixedText\u001b[39m\u001b[38;5;124m'\u001b[39m,\n\u001b[1;32m   (...)\u001b[0m\n\u001b[0;32m     16\u001b[0m     \u001b[38;5;124m'\u001b[39m\u001b[38;5;124mft_encoded\u001b[39m\u001b[38;5;124m'\u001b[39m, \u001b[38;5;124m'\u001b[39m\u001b[38;5;124mbt_encoded\u001b[39m\u001b[38;5;124m'\u001b[39m\n\u001b[0;32m     17\u001b[0m ]\n\u001b[0;32m     19\u001b[0m \u001b[38;5;66;03m# 🔹 Filter only those columns from df_all\u001b[39;00m\n\u001b[1;32m---> 20\u001b[0m df_selected \u001b[38;5;241m=\u001b[39m df_all[selected_features]\u001b[38;5;241m.\u001b[39mcopy()\n\u001b[0;32m     22\u001b[0m \u001b[38;5;66;03m# 🔹 Encode non-numeric columns\u001b[39;00m\n\u001b[0;32m     23\u001b[0m \u001b[38;5;28;01mfrom\u001b[39;00m \u001b[38;5;21;01msklearn\u001b[39;00m\u001b[38;5;21;01m.\u001b[39;00m\u001b[38;5;21;01mpreprocessing\u001b[39;00m \u001b[38;5;28;01mimport\u001b[39;00m LabelEncoder\n",
      "\u001b[1;31mNameError\u001b[0m: name 'df_all' is not defined"
     ]
    }
   ],
   "source": [
    "import pandas as pd\n",
    "import seaborn as sns\n",
    "import matplotlib.pyplot as plt\n",
    "\n",
    "# 🔹 List of selected features (copy-paste from your message)\n",
    "selected_features = [\n",
    "    'it', 'ft', 'bt', 'km', 'ownerNo', 'owner', 'oem', 'model', 'modelYear',\n",
    "    'centralVariantId', 'variantName', 'price', 'priceActual', 'priceSaving', 'priceFixedText',\n",
    "    'trendingText.imgUrl', 'trendingText.heading', 'trendingText.desc', 'Registration Year',\n",
    "    'Insurance Validity', 'Seats', 'Kms Driven', 'RTO', 'Ownership', 'Engine Displacement',\n",
    "    'Year of Manufacture', 'car_id', 'Category1', 'Feature1', 'Category2', 'Feature2',\n",
    "    'Category3', 'Feature3', 'Category4', 'Feature4', 'Mileage', 'Engine', 'Max Power',\n",
    "    'Torque', 'Seats', 'Wheel Size', 'transmission_Automatic', 'transmission_Manual',\n",
    "    'Fuel Type_CNG', 'Fuel Type_Diesel', 'Fuel Type_Electric', 'Fuel Type_LPG',\n",
    "    'Fuel Type_Petrol', 'Transmission_Automatic', 'Transmission_Manual',\n",
    "    'ft_encoded', 'bt_encoded'\n",
    "]\n",
    "\n",
    "# 🔹 Filter only those columns from df_all\n",
    "df_selected = df_all[selected_features].copy()\n",
    "\n",
    "# 🔹 Encode non-numeric columns\n",
    "from sklearn.preprocessing import LabelEncoder\n",
    "for col in df_selected.select_dtypes(include='object').columns:\n",
    "    df_selected[col] = LabelEncoder().fit_transform(df_selected[col].astype(str))\n",
    "\n",
    "# 🔹 Compute correlation matrix\n",
    "corr_matrix = df_selected.corr()\n",
    "\n",
    "# 🔹 Plot heatmap\n",
    "plt.figure(figsize=(20, 18))\n",
    "sns.heatmap(corr_matrix, cmap='coolwarm', annot=False, linewidths=0.5)\n",
    "plt.title(\"Heatmap of Selected Features\", fontsize=18)\n",
    "plt.xticks(rotation=90)\n",
    "plt.yticks(rotation=0)\n",
    "plt.tight_layout()\n",
    "plt.show()\n"
   ]
  },
  {
   "cell_type": "code",
   "execution_count": null,
   "metadata": {},
   "outputs": [],
   "source": []
  }
 ],
 "metadata": {
  "kernelspec": {
   "display_name": "base",
   "language": "python",
   "name": "python3"
  },
  "language_info": {
   "codemirror_mode": {
    "name": "ipython",
    "version": 3
   },
   "file_extension": ".py",
   "mimetype": "text/x-python",
   "name": "python",
   "nbconvert_exporter": "python",
   "pygments_lexer": "ipython3",
   "version": "3.12.4"
  }
 },
 "nbformat": 4,
 "nbformat_minor": 2
}
