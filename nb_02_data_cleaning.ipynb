{
 "cells": [
  {
   "cell_type": "markdown",
   "metadata": {},
   "source": [
    "### Clean all data together so that the categorical conversion is applicable.!"
   ]
  },
  {
   "cell_type": "code",
   "execution_count": 1,
   "metadata": {},
   "outputs": [
    {
     "name": "stderr",
     "output_type": "stream",
     "text": [
      "C:\\Users\\VINOTH\\AppData\\Local\\Temp\\ipykernel_8636\\1282186920.py:5: DtypeWarning: Columns (14) have mixed types. Specify dtype option on import or set low_memory=False.\n",
      "  df=pd.read_csv(r'./parsed_data/all_cars_parsed_data.csv',header=[0])\n"
     ]
    },
    {
     "data": {
      "text/html": [
       "<div>\n",
       "<style scoped>\n",
       "    .dataframe tbody tr th:only-of-type {\n",
       "        vertical-align: middle;\n",
       "    }\n",
       "\n",
       "    .dataframe tbody tr th {\n",
       "        vertical-align: top;\n",
       "    }\n",
       "\n",
       "    .dataframe thead th {\n",
       "        text-align: right;\n",
       "    }\n",
       "</style>\n",
       "<table border=\"1\" class=\"dataframe\">\n",
       "  <thead>\n",
       "    <tr style=\"text-align: right;\">\n",
       "      <th></th>\n",
       "      <th>City</th>\n",
       "      <th>it</th>\n",
       "      <th>ft</th>\n",
       "      <th>bt</th>\n",
       "      <th>km</th>\n",
       "      <th>transmission</th>\n",
       "      <th>ownerNo</th>\n",
       "      <th>owner</th>\n",
       "      <th>oem</th>\n",
       "      <th>model</th>\n",
       "      <th>...</th>\n",
       "      <th>Front Brake Type</th>\n",
       "      <th>Rear Brake Type</th>\n",
       "      <th>Top Speed</th>\n",
       "      <th>Acceleration</th>\n",
       "      <th>Tyre Type</th>\n",
       "      <th>No Door Numbers</th>\n",
       "      <th>Cargo Volumn</th>\n",
       "      <th>Wheel Size</th>\n",
       "      <th>Alloy Wheel Size</th>\n",
       "      <th>Ground Clearance Unladen</th>\n",
       "    </tr>\n",
       "  </thead>\n",
       "  <tbody>\n",
       "    <tr>\n",
       "      <th>0</th>\n",
       "      <td>Bangalore</td>\n",
       "      <td>0</td>\n",
       "      <td>Petrol</td>\n",
       "      <td>Hatchback</td>\n",
       "      <td>1,20,000</td>\n",
       "      <td>Manual</td>\n",
       "      <td>3</td>\n",
       "      <td>3rd Owner</td>\n",
       "      <td>Maruti</td>\n",
       "      <td>Maruti Celerio</td>\n",
       "      <td>...</td>\n",
       "      <td>Ventilated Disc</td>\n",
       "      <td>Drum</td>\n",
       "      <td>150 Kmph</td>\n",
       "      <td>15.05 Seconds</td>\n",
       "      <td>Tubeless, Radial</td>\n",
       "      <td>5.0</td>\n",
       "      <td>235-litres</td>\n",
       "      <td>NaN</td>\n",
       "      <td>NaN</td>\n",
       "      <td>NaN</td>\n",
       "    </tr>\n",
       "    <tr>\n",
       "      <th>1</th>\n",
       "      <td>Bangalore</td>\n",
       "      <td>0</td>\n",
       "      <td>Petrol</td>\n",
       "      <td>SUV</td>\n",
       "      <td>32,706</td>\n",
       "      <td>Manual</td>\n",
       "      <td>2</td>\n",
       "      <td>2nd Owner</td>\n",
       "      <td>Ford</td>\n",
       "      <td>Ford Ecosport</td>\n",
       "      <td>...</td>\n",
       "      <td>Ventilated Disc</td>\n",
       "      <td>Drum</td>\n",
       "      <td>NaN</td>\n",
       "      <td>NaN</td>\n",
       "      <td>Tubeless,Radial</td>\n",
       "      <td>4.0</td>\n",
       "      <td>352-litres</td>\n",
       "      <td>16</td>\n",
       "      <td>16</td>\n",
       "      <td>NaN</td>\n",
       "    </tr>\n",
       "  </tbody>\n",
       "</table>\n",
       "<p>2 rows × 243 columns</p>\n",
       "</div>"
      ],
      "text/plain": [
       "        City  it      ft         bt        km transmission  ownerNo  \\\n",
       "0  Bangalore   0  Petrol  Hatchback  1,20,000       Manual        3   \n",
       "1  Bangalore   0  Petrol        SUV    32,706       Manual        2   \n",
       "\n",
       "       owner     oem           model  ...  Front Brake Type  Rear Brake Type  \\\n",
       "0  3rd Owner  Maruti  Maruti Celerio  ...   Ventilated Disc             Drum   \n",
       "1  2nd Owner    Ford   Ford Ecosport  ...   Ventilated Disc             Drum   \n",
       "\n",
       "  Top Speed   Acceleration         Tyre Type  No Door Numbers  Cargo Volumn  \\\n",
       "0  150 Kmph  15.05 Seconds  Tubeless, Radial              5.0    235-litres   \n",
       "1       NaN            NaN   Tubeless,Radial              4.0    352-litres   \n",
       "\n",
       "  Wheel Size Alloy Wheel Size Ground Clearance Unladen  \n",
       "0        NaN              NaN                      NaN  \n",
       "1         16               16                      NaN  \n",
       "\n",
       "[2 rows x 243 columns]"
      ]
     },
     "execution_count": 1,
     "metadata": {},
     "output_type": "execute_result"
    }
   ],
   "source": [
    "import pandas as pd\n",
    "import json\n",
    "from pandas import json_normalize\n",
    "\n",
    "df=pd.read_csv(r'./parsed_data/all_cars_parsed_data.csv',header=[0])\n",
    "df.head(2)"
   ]
  },
  {
   "cell_type": "markdown",
   "metadata": {},
   "source": [
    "- Keep int64, float64, and bool as-is\n",
    "- Attempt to convert object columns to numeric — if successful, assign the result\n",
    "- Attempt boolean conversion for text-based columns like 'yes'/'no', 'true'/'false'\n",
    "- Leave everything else as object"
   ]
  },
  {
   "cell_type": "code",
   "execution_count": 2,
   "metadata": {},
   "outputs": [],
   "source": [
    "# Attempt to convert each column\n",
    "for col in df.columns:\n",
    "    # Skip already numeric or boolean\n",
    "    if pd.api.types.is_numeric_dtype(df[col]) or pd.api.types.is_bool_dtype(df[col]):\n",
    "        continue\n",
    "    \n",
    "    # Try converting to numeric (int/float)\n",
    "    converted = pd.to_numeric(df[col], errors='coerce')\n",
    "    \n",
    "    # If it successfully converts (not all NaNs), use it\n",
    "    if not converted.isna().all():\n",
    "        df[col] = converted\n",
    "        continue\n",
    "    \n",
    "    # Try boolean conversion for strings like 'yes', 'no', 'true', 'false'\n",
    "    unique_vals = df[col].dropna().str.lower().unique()\n",
    "    if set(unique_vals).issubset({'yes', 'no', 'true', 'false', '0', '1'}):\n",
    "        df[col] = df[col].str.lower().map({'yes': True, 'no': False, 'true': True, 'false': False, '1': True, '0': False})\n"
   ]
  },
  {
   "cell_type": "markdown",
   "metadata": {},
   "source": [
    "### check col dtype"
   ]
  },
  {
   "cell_type": "code",
   "execution_count": 3,
   "metadata": {},
   "outputs": [],
   "source": [
    "# Group similar types together\n",
    "def get_count_dtypes(df):\n",
    "    dtype_counts = {\n",
    "        'int': 0,\n",
    "        'float': 0,\n",
    "        'bool': 0,\n",
    "        'object': 0,\n",
    "        'datetime': 0,\n",
    "        'other': 0\n",
    "    }\n",
    "    \n",
    "    for dtype in df.dtypes:\n",
    "        if pd.api.types.is_integer_dtype(dtype):\n",
    "            dtype_counts['int'] += 1\n",
    "        elif pd.api.types.is_float_dtype(dtype):\n",
    "            dtype_counts['float'] += 1\n",
    "        elif pd.api.types.is_bool_dtype(dtype):\n",
    "            dtype_counts['bool'] += 1\n",
    "        elif pd.api.types.is_object_dtype(dtype):\n",
    "            dtype_counts['object'] += 1\n",
    "        elif pd.api.types.is_datetime64_any_dtype(dtype):\n",
    "            dtype_counts['datetime'] += 1\n",
    "        else:\n",
    "            dtype_counts['other'] += 1\n",
    "    \n",
    "    # Display the count\n",
    "    print(pd.Series(dtype_counts))\n"
   ]
  },
  {
   "cell_type": "code",
   "execution_count": 4,
   "metadata": {},
   "outputs": [],
   "source": [
    "def convert_object_to_int_float(df):\n",
    "    # Attempt to convert each column\n",
    "    for col in df.columns:\n",
    "        # Skip already numeric or boolean\n",
    "        if pd.api.types.is_numeric_dtype(df[col]) or pd.api.types.is_bool_dtype(df[col]):\n",
    "            continue\n",
    "        \n",
    "        # Try converting to numeric (int/float)\n",
    "        converted = pd.to_numeric(df[col], errors='coerce')\n",
    "        \n",
    "        # If it successfully converts (not all NaNs), use it\n",
    "        if not converted.isna().all():\n",
    "            df[col] = converted\n",
    "            continue\n",
    "        \n",
    "        # Try boolean conversion for strings like 'yes', 'no', 'true', 'false'\n",
    "        unique_vals = df[col].dropna().str.lower().unique()\n",
    "        if set(unique_vals).issubset({'yes', 'no', 'true', 'false', '0', '1'}):\n",
    "            df[col] = df[col].str.lower().map({'yes': True, 'no': False, 'true': True, 'false': False, '1': True, '0': False})\n",
    "\n",
    "    return df"
   ]
  },
  {
   "cell_type": "code",
   "execution_count": 5,
   "metadata": {},
   "outputs": [
    {
     "name": "stdout",
     "output_type": "stream",
     "text": [
      "int           4\n",
      "float        31\n",
      "bool        173\n",
      "object       35\n",
      "datetime      0\n",
      "other         0\n",
      "dtype: int64\n"
     ]
    }
   ],
   "source": [
    "get_count_dtypes(df)"
   ]
  },
  {
   "cell_type": "markdown",
   "metadata": {},
   "source": [
    "### convert True/False to 1/0"
   ]
  },
  {
   "cell_type": "code",
   "execution_count": 6,
   "metadata": {},
   "outputs": [],
   "source": [
    "# Convert all boolean columns: True → 1, False → 0\n",
    "bool_cols = df.select_dtypes(include='bool').columns\n",
    "df[bool_cols] = df[bool_cols].astype(int)\n"
   ]
  },
  {
   "cell_type": "code",
   "execution_count": 7,
   "metadata": {},
   "outputs": [
    {
     "name": "stdout",
     "output_type": "stream",
     "text": [
      "int         177\n",
      "float        31\n",
      "bool          0\n",
      "object       35\n",
      "datetime      0\n",
      "other         0\n",
      "dtype: int64\n"
     ]
    }
   ],
   "source": [
    "get_count_dtypes(df)"
   ]
  },
  {
   "cell_type": "markdown",
   "metadata": {},
   "source": [
    "### Get object cols"
   ]
  },
  {
   "cell_type": "code",
   "execution_count": 8,
   "metadata": {},
   "outputs": [
    {
     "name": "stdout",
     "output_type": "stream",
     "text": [
      "Index(['City', 'ft', 'bt', 'transmission', 'owner', 'oem', 'model', 'price',\n",
      "       'priceActual', 'trendingText.imgUrl', 'trendingText.heading',\n",
      "       'trendingText.desc', 'Fuel Type', 'Seats', 'Kms Driven', 'RTO',\n",
      "       'Ownership', 'Engine Displacement', 'Transmission', 'Mileage', 'Engine',\n",
      "       'Max Power', 'Color', 'Engine Type', 'Max Torque',\n",
      "       'Value Configuration', 'Fuel Suppy System', 'BoreX Stroke',\n",
      "       'Turbo Charger', 'Super Charger', 'Drive Type', 'Steering Type',\n",
      "       'Front Brake Type', 'Rear Brake Type', 'Tyre Type'],\n",
      "      dtype='object')\n"
     ]
    }
   ],
   "source": [
    "# Get list of all object dtype columns\n",
    "object_cols = df.select_dtypes(include='object').columns\n",
    "print(object_cols)"
   ]
  },
  {
   "cell_type": "code",
   "execution_count": 9,
   "metadata": {},
   "outputs": [],
   "source": [
    "df_object=df[object_cols]"
   ]
  },
  {
   "cell_type": "code",
   "execution_count": 10,
   "metadata": {},
   "outputs": [
    {
     "data": {
      "text/html": [
       "<div>\n",
       "<style scoped>\n",
       "    .dataframe tbody tr th:only-of-type {\n",
       "        vertical-align: middle;\n",
       "    }\n",
       "\n",
       "    .dataframe tbody tr th {\n",
       "        vertical-align: top;\n",
       "    }\n",
       "\n",
       "    .dataframe thead th {\n",
       "        text-align: right;\n",
       "    }\n",
       "</style>\n",
       "<table border=\"1\" class=\"dataframe\">\n",
       "  <thead>\n",
       "    <tr style=\"text-align: right;\">\n",
       "      <th></th>\n",
       "      <th>City</th>\n",
       "      <th>ft</th>\n",
       "      <th>bt</th>\n",
       "      <th>transmission</th>\n",
       "      <th>owner</th>\n",
       "      <th>oem</th>\n",
       "      <th>model</th>\n",
       "      <th>price</th>\n",
       "      <th>priceActual</th>\n",
       "      <th>trendingText.imgUrl</th>\n",
       "      <th>...</th>\n",
       "      <th>Value Configuration</th>\n",
       "      <th>Fuel Suppy System</th>\n",
       "      <th>BoreX Stroke</th>\n",
       "      <th>Turbo Charger</th>\n",
       "      <th>Super Charger</th>\n",
       "      <th>Drive Type</th>\n",
       "      <th>Steering Type</th>\n",
       "      <th>Front Brake Type</th>\n",
       "      <th>Rear Brake Type</th>\n",
       "      <th>Tyre Type</th>\n",
       "    </tr>\n",
       "  </thead>\n",
       "  <tbody>\n",
       "    <tr>\n",
       "      <th>0</th>\n",
       "      <td>Bangalore</td>\n",
       "      <td>Petrol</td>\n",
       "      <td>Hatchback</td>\n",
       "      <td>Manual</td>\n",
       "      <td>3rd Owner</td>\n",
       "      <td>Maruti</td>\n",
       "      <td>Maruti Celerio</td>\n",
       "      <td>₹ 4 Lakh</td>\n",
       "      <td>NaN</td>\n",
       "      <td>https://stimg.cardekho.com/used-cars/common/ic...</td>\n",
       "      <td>...</td>\n",
       "      <td>DOHC</td>\n",
       "      <td>MPFi</td>\n",
       "      <td>73 X 82 mm</td>\n",
       "      <td>No</td>\n",
       "      <td>False</td>\n",
       "      <td>FWD</td>\n",
       "      <td>Power</td>\n",
       "      <td>Ventilated Disc</td>\n",
       "      <td>Drum</td>\n",
       "      <td>Tubeless, Radial</td>\n",
       "    </tr>\n",
       "    <tr>\n",
       "      <th>1</th>\n",
       "      <td>Bangalore</td>\n",
       "      <td>Petrol</td>\n",
       "      <td>SUV</td>\n",
       "      <td>Manual</td>\n",
       "      <td>2nd Owner</td>\n",
       "      <td>Ford</td>\n",
       "      <td>Ford Ecosport</td>\n",
       "      <td>₹ 8.11 Lakh</td>\n",
       "      <td>NaN</td>\n",
       "      <td>https://stimg.cardekho.com/used-cars/common/ic...</td>\n",
       "      <td>...</td>\n",
       "      <td>DOHC</td>\n",
       "      <td>Direct Injection</td>\n",
       "      <td>79 X 76.5 mm</td>\n",
       "      <td>No</td>\n",
       "      <td>False</td>\n",
       "      <td>FWD</td>\n",
       "      <td>Power</td>\n",
       "      <td>Ventilated Disc</td>\n",
       "      <td>Drum</td>\n",
       "      <td>Tubeless,Radial</td>\n",
       "    </tr>\n",
       "  </tbody>\n",
       "</table>\n",
       "<p>2 rows × 35 columns</p>\n",
       "</div>"
      ],
      "text/plain": [
       "        City      ft         bt transmission      owner     oem  \\\n",
       "0  Bangalore  Petrol  Hatchback       Manual  3rd Owner  Maruti   \n",
       "1  Bangalore  Petrol        SUV       Manual  2nd Owner    Ford   \n",
       "\n",
       "            model        price priceActual  \\\n",
       "0  Maruti Celerio     ₹ 4 Lakh         NaN   \n",
       "1   Ford Ecosport  ₹ 8.11 Lakh         NaN   \n",
       "\n",
       "                                 trendingText.imgUrl  ... Value Configuration  \\\n",
       "0  https://stimg.cardekho.com/used-cars/common/ic...  ...                DOHC   \n",
       "1  https://stimg.cardekho.com/used-cars/common/ic...  ...                DOHC   \n",
       "\n",
       "  Fuel Suppy System  BoreX Stroke Turbo Charger Super Charger Drive Type  \\\n",
       "0              MPFi    73 X 82 mm            No         False        FWD   \n",
       "1  Direct Injection  79 X 76.5 mm            No         False        FWD   \n",
       "\n",
       "  Steering Type Front Brake Type Rear Brake Type         Tyre Type  \n",
       "0         Power  Ventilated Disc            Drum  Tubeless, Radial  \n",
       "1         Power  Ventilated Disc            Drum   Tubeless,Radial  \n",
       "\n",
       "[2 rows x 35 columns]"
      ]
     },
     "execution_count": 10,
     "metadata": {},
     "output_type": "execute_result"
    }
   ],
   "source": [
    "df_object.head(2)"
   ]
  },
  {
   "cell_type": "code",
   "execution_count": 11,
   "metadata": {},
   "outputs": [
    {
     "name": "stdout",
     "output_type": "stream",
     "text": [
      "oem                      33\n",
      "model                   315\n",
      "price                  1400\n",
      "priceActual             721\n",
      "Kms Driven             4089\n",
      "RTO                     464\n",
      "Engine Displacement     150\n",
      "Mileage                 522\n",
      "Engine                  150\n",
      "Max Power               760\n",
      "Color                   153\n",
      "Engine Type             508\n",
      "Max Torque              617\n",
      "Value Configuration      13\n",
      "Fuel Suppy System        81\n",
      "BoreX Stroke            171\n",
      "Drive Type               20\n",
      "Front Brake Type         34\n",
      "Rear Brake Type          35\n",
      "Tyre Type                34\n",
      "dtype: int64\n"
     ]
    }
   ],
   "source": [
    "nunique_counts = df.select_dtypes(include='object').nunique()\n",
    "\n",
    "# Filter columns with unique values > 10\n",
    "cols_gt_10_unique = nunique_counts[nunique_counts > 10]\n",
    "print(cols_gt_10_unique)"
   ]
  },
  {
   "cell_type": "markdown",
   "metadata": {},
   "source": [
    "### select few imp columns and clean the data to float"
   ]
  },
  {
   "cell_type": "code",
   "execution_count": 12,
   "metadata": {},
   "outputs": [],
   "source": [
    "df_tmp=df_object[['price','Kms Driven','Engine Displacement','Mileage','Max Power']]"
   ]
  },
  {
   "cell_type": "code",
   "execution_count": 13,
   "metadata": {},
   "outputs": [],
   "source": [
    "# Clean price\n",
    "def clean_price(val):\n",
    "    if pd.isna(val):\n",
    "        return None\n",
    "    val = val.replace(\"₹\", \"\").replace(\",\", \"\").strip().lower()\n",
    "    if 'lakh' in val:\n",
    "        return float(val.replace('lakh', '').strip()) * 1e5\n",
    "    if 'crore' in val:\n",
    "        return float(val.replace('crore', '').strip()) * 1e7\n",
    "    return float(val)\n",
    "\n",
    "# Apply transformations\n",
    "df_tmp.loc[:, 'price'] = df_tmp['price'].apply(clean_price)\n"
   ]
  },
  {
   "cell_type": "code",
   "execution_count": 14,
   "metadata": {},
   "outputs": [
    {
     "name": "stderr",
     "output_type": "stream",
     "text": [
      "<>:2: SyntaxWarning: invalid escape sequence '\\d'\n",
      "<>:5: SyntaxWarning: invalid escape sequence '\\d'\n",
      "<>:2: SyntaxWarning: invalid escape sequence '\\d'\n",
      "<>:5: SyntaxWarning: invalid escape sequence '\\d'\n",
      "C:\\Users\\VINOTH\\AppData\\Local\\Temp\\ipykernel_8636\\2004351802.py:2: SyntaxWarning: invalid escape sequence '\\d'\n",
      "  df_tmp['Kms Driven'] = df_tmp['Kms Driven'].str.replace(',', '').str.extract('(\\d+)').astype(float)\n",
      "C:\\Users\\VINOTH\\AppData\\Local\\Temp\\ipykernel_8636\\2004351802.py:5: SyntaxWarning: invalid escape sequence '\\d'\n",
      "  df_tmp['Engine Displacement'] = df_tmp['Engine Displacement'].str.extract('(\\d+)').astype(float)\n",
      "C:\\Users\\VINOTH\\AppData\\Local\\Temp\\ipykernel_8636\\2004351802.py:2: SettingWithCopyWarning: \n",
      "A value is trying to be set on a copy of a slice from a DataFrame.\n",
      "Try using .loc[row_indexer,col_indexer] = value instead\n",
      "\n",
      "See the caveats in the documentation: https://pandas.pydata.org/pandas-docs/stable/user_guide/indexing.html#returning-a-view-versus-a-copy\n",
      "  df_tmp['Kms Driven'] = df_tmp['Kms Driven'].str.replace(',', '').str.extract('(\\d+)').astype(float)\n",
      "C:\\Users\\VINOTH\\AppData\\Local\\Temp\\ipykernel_8636\\2004351802.py:5: SettingWithCopyWarning: \n",
      "A value is trying to be set on a copy of a slice from a DataFrame.\n",
      "Try using .loc[row_indexer,col_indexer] = value instead\n",
      "\n",
      "See the caveats in the documentation: https://pandas.pydata.org/pandas-docs/stable/user_guide/indexing.html#returning-a-view-versus-a-copy\n",
      "  df_tmp['Engine Displacement'] = df_tmp['Engine Displacement'].str.extract('(\\d+)').astype(float)\n",
      "C:\\Users\\VINOTH\\AppData\\Local\\Temp\\ipykernel_8636\\2004351802.py:8: SettingWithCopyWarning: \n",
      "A value is trying to be set on a copy of a slice from a DataFrame.\n",
      "Try using .loc[row_indexer,col_indexer] = value instead\n",
      "\n",
      "See the caveats in the documentation: https://pandas.pydata.org/pandas-docs/stable/user_guide/indexing.html#returning-a-view-versus-a-copy\n",
      "  df_tmp['Mileage'] = df_tmp['Mileage'].str.extract(r'([\\d.]+)').astype(float)\n",
      "C:\\Users\\VINOTH\\AppData\\Local\\Temp\\ipykernel_8636\\2004351802.py:11: SettingWithCopyWarning: \n",
      "A value is trying to be set on a copy of a slice from a DataFrame.\n",
      "Try using .loc[row_indexer,col_indexer] = value instead\n",
      "\n",
      "See the caveats in the documentation: https://pandas.pydata.org/pandas-docs/stable/user_guide/indexing.html#returning-a-view-versus-a-copy\n",
      "  df_tmp['Max Power'] = df_tmp['Max Power'].str.replace(',', '').str.extract(r'([\\d.]+)').astype(float)\n"
     ]
    }
   ],
   "source": [
    "# Clean Kms Driven: remove commas and extract numeric values\n",
    "df_tmp['Kms Driven'] = df_tmp['Kms Driven'].str.replace(',', '').str.extract('(\\d+)').astype(float)\n",
    "\n",
    "# Clean Engine Displacement: Extract digits from the \"cc\" part\n",
    "df_tmp['Engine Displacement'] = df_tmp['Engine Displacement'].str.extract('(\\d+)').astype(float)\n",
    "\n",
    "# Clean Mileage: Extract the numeric value (assuming it's a float)\n",
    "df_tmp['Mileage'] = df_tmp['Mileage'].str.extract(r'([\\d.]+)').astype(float)\n",
    "\n",
    "# Clean Max Power: Extract numeric part of the max power value\n",
    "df_tmp['Max Power'] = df_tmp['Max Power'].str.replace(',', '').str.extract(r'([\\d.]+)').astype(float)"
   ]
  },
  {
   "cell_type": "markdown",
   "metadata": {},
   "source": [
    "### merge the few cleaned columns into original df"
   ]
  },
  {
   "cell_type": "code",
   "execution_count": 15,
   "metadata": {},
   "outputs": [],
   "source": [
    "df.update(df_tmp)"
   ]
  },
  {
   "cell_type": "code",
   "execution_count": 16,
   "metadata": {},
   "outputs": [],
   "source": [
    "df=convert_object_to_int_float(df)"
   ]
  },
  {
   "cell_type": "code",
   "execution_count": 17,
   "metadata": {},
   "outputs": [
    {
     "data": {
      "text/plain": [
       "0       400000.0\n",
       "1       811000.0\n",
       "2       585000.0\n",
       "3       462000.0\n",
       "4       790000.0\n",
       "          ...   \n",
       "8364    510000.0\n",
       "8365    180000.0\n",
       "8366    550000.0\n",
       "8367    140000.0\n",
       "8368    500000.0\n",
       "Name: price, Length: 8369, dtype: float64"
      ]
     },
     "execution_count": 17,
     "metadata": {},
     "output_type": "execute_result"
    }
   ],
   "source": [
    "df['price']"
   ]
  },
  {
   "cell_type": "code",
   "execution_count": 18,
   "metadata": {},
   "outputs": [
    {
     "name": "stdout",
     "output_type": "stream",
     "text": [
      "int         177\n",
      "float        37\n",
      "bool          0\n",
      "object       29\n",
      "datetime      0\n",
      "other         0\n",
      "dtype: int64\n"
     ]
    }
   ],
   "source": [
    "get_count_dtypes(df)"
   ]
  },
  {
   "cell_type": "code",
   "execution_count": 19,
   "metadata": {},
   "outputs": [
    {
     "name": "stdout",
     "output_type": "stream",
     "text": [
      "Index(['City', 'ft', 'bt', 'transmission', 'owner', 'oem', 'model',\n",
      "       'priceActual', 'trendingText.imgUrl', 'trendingText.heading',\n",
      "       'trendingText.desc', 'Fuel Type', 'Seats', 'RTO', 'Ownership',\n",
      "       'Transmission', 'Engine', 'Color', 'Engine Type', 'Max Torque',\n",
      "       'Value Configuration', 'Fuel Suppy System', 'BoreX Stroke',\n",
      "       'Turbo Charger', 'Drive Type', 'Steering Type', 'Front Brake Type',\n",
      "       'Rear Brake Type', 'Tyre Type'],\n",
      "      dtype='object')\n"
     ]
    }
   ],
   "source": [
    "# Get list of all object dtype columns\n",
    "object_cols = df.select_dtypes(include='object').columns\n",
    "print(object_cols)\n",
    "df_object =df[object_cols]"
   ]
  },
  {
   "cell_type": "code",
   "execution_count": null,
   "metadata": {},
   "outputs": [
    {
     "data": {
      "text/html": [
       "<div>\n",
       "<style scoped>\n",
       "    .dataframe tbody tr th:only-of-type {\n",
       "        vertical-align: middle;\n",
       "    }\n",
       "\n",
       "    .dataframe tbody tr th {\n",
       "        vertical-align: top;\n",
       "    }\n",
       "\n",
       "    .dataframe thead th {\n",
       "        text-align: right;\n",
       "    }\n",
       "</style>\n",
       "<table border=\"1\" class=\"dataframe\">\n",
       "  <thead>\n",
       "    <tr style=\"text-align: right;\">\n",
       "      <th></th>\n",
       "      <th>City</th>\n",
       "      <th>ft</th>\n",
       "      <th>bt</th>\n",
       "      <th>transmission</th>\n",
       "      <th>owner</th>\n",
       "      <th>oem</th>\n",
       "      <th>model</th>\n",
       "      <th>priceActual</th>\n",
       "      <th>trendingText.imgUrl</th>\n",
       "      <th>trendingText.heading</th>\n",
       "      <th>...</th>\n",
       "      <th>Max Torque</th>\n",
       "      <th>Value Configuration</th>\n",
       "      <th>Fuel Suppy System</th>\n",
       "      <th>BoreX Stroke</th>\n",
       "      <th>Turbo Charger</th>\n",
       "      <th>Drive Type</th>\n",
       "      <th>Steering Type</th>\n",
       "      <th>Front Brake Type</th>\n",
       "      <th>Rear Brake Type</th>\n",
       "      <th>Tyre Type</th>\n",
       "    </tr>\n",
       "  </thead>\n",
       "  <tbody>\n",
       "    <tr>\n",
       "      <th>0</th>\n",
       "      <td>0</td>\n",
       "      <td>4</td>\n",
       "      <td>2</td>\n",
       "      <td>1</td>\n",
       "      <td>3</td>\n",
       "      <td>20</td>\n",
       "      <td>160</td>\n",
       "      <td>721</td>\n",
       "      <td>0</td>\n",
       "      <td>0</td>\n",
       "      <td>...</td>\n",
       "      <td>593</td>\n",
       "      <td>3</td>\n",
       "      <td>53</td>\n",
       "      <td>30</td>\n",
       "      <td>1</td>\n",
       "      <td>12</td>\n",
       "      <td>6</td>\n",
       "      <td>22</td>\n",
       "      <td>7</td>\n",
       "      <td>23</td>\n",
       "    </tr>\n",
       "    <tr>\n",
       "      <th>1</th>\n",
       "      <td>0</td>\n",
       "      <td>4</td>\n",
       "      <td>7</td>\n",
       "      <td>1</td>\n",
       "      <td>2</td>\n",
       "      <td>6</td>\n",
       "      <td>50</td>\n",
       "      <td>721</td>\n",
       "      <td>0</td>\n",
       "      <td>0</td>\n",
       "      <td>...</td>\n",
       "      <td>146</td>\n",
       "      <td>3</td>\n",
       "      <td>23</td>\n",
       "      <td>102</td>\n",
       "      <td>1</td>\n",
       "      <td>12</td>\n",
       "      <td>6</td>\n",
       "      <td>22</td>\n",
       "      <td>7</td>\n",
       "      <td>26</td>\n",
       "    </tr>\n",
       "  </tbody>\n",
       "</table>\n",
       "<p>2 rows × 29 columns</p>\n",
       "</div>"
      ],
      "text/plain": [
       "   City  ft  bt  transmission  owner  oem  model  priceActual  \\\n",
       "0     0   4   2             1      3   20    160          721   \n",
       "1     0   4   7             1      2    6     50          721   \n",
       "\n",
       "   trendingText.imgUrl  trendingText.heading  ...  Max Torque  \\\n",
       "0                    0                     0  ...         593   \n",
       "1                    0                     0  ...         146   \n",
       "\n",
       "   Value Configuration  Fuel Suppy System  BoreX Stroke  Turbo Charger  \\\n",
       "0                    3                 53            30              1   \n",
       "1                    3                 23           102              1   \n",
       "\n",
       "   Drive Type  Steering Type  Front Brake Type  Rear Brake Type  Tyre Type  \n",
       "0          12              6                22                7         23  \n",
       "1          12              6                22                7         26  \n",
       "\n",
       "[2 rows x 29 columns]"
      ]
     },
     "execution_count": 20,
     "metadata": {},
     "output_type": "execute_result"
    }
   ],
   "source": [
    "from sklearn.preprocessing import LabelEncoder\n",
    "import pickle\n",
    "\n",
    "\n",
    "# Step 1: Convert object columns to categorical type\n",
    "df_object = df_object.apply(lambda x: x.astype('category') if x.dtype == 'object' else x)\n",
    "from sklearn.preprocessing import LabelEncoder\n",
    "\n",
    "# Step 2: Label Encoding for each column with categorical data\n",
    "label_encoder = LabelEncoder()\n",
    "\n",
    "# Apply label encoding on all categorical columns\n",
    "for col in df_object.select_dtypes(include='category').columns:\n",
    "    df_object[col] = label_encoder.fit_transform(df_object[col])\n",
    "\n",
    "\n",
    "\n",
    "# Step 3: Print the resulting DataFrame\n",
    "df_object.head(2)"
   ]
  },
  {
   "cell_type": "code",
   "execution_count": 21,
   "metadata": {},
   "outputs": [],
   "source": [
    "df.update(df_object)"
   ]
  },
  {
   "cell_type": "code",
   "execution_count": 22,
   "metadata": {},
   "outputs": [
    {
     "name": "stdout",
     "output_type": "stream",
     "text": [
      "(8369, 243)\n"
     ]
    }
   ],
   "source": [
    "print(df.shape)"
   ]
  },
  {
   "cell_type": "code",
   "execution_count": 23,
   "metadata": {},
   "outputs": [],
   "source": [
    "df=convert_object_to_int_float(df)"
   ]
  },
  {
   "cell_type": "code",
   "execution_count": 24,
   "metadata": {},
   "outputs": [
    {
     "data": {
      "text/plain": [
       "0       400000.0\n",
       "1       811000.0\n",
       "2       585000.0\n",
       "3       462000.0\n",
       "4       790000.0\n",
       "          ...   \n",
       "8364    510000.0\n",
       "8365    180000.0\n",
       "8366    550000.0\n",
       "8367    140000.0\n",
       "8368    500000.0\n",
       "Name: price, Length: 8369, dtype: float64"
      ]
     },
     "execution_count": 24,
     "metadata": {},
     "output_type": "execute_result"
    }
   ],
   "source": [
    "df['price']"
   ]
  },
  {
   "cell_type": "code",
   "execution_count": 25,
   "metadata": {},
   "outputs": [
    {
     "name": "stdout",
     "output_type": "stream",
     "text": [
      "int         206\n",
      "float        37\n",
      "bool          0\n",
      "object        0\n",
      "datetime      0\n",
      "other         0\n",
      "dtype: int64\n"
     ]
    }
   ],
   "source": [
    "get_count_dtypes(df)"
   ]
  },
  {
   "cell_type": "code",
   "execution_count": 26,
   "metadata": {},
   "outputs": [],
   "source": [
    "### All object columns are converted to numerical"
   ]
  },
  {
   "cell_type": "code",
   "execution_count": 27,
   "metadata": {},
   "outputs": [],
   "source": [
    "df.to_csv('./cleaned_data/all_cars_cleaned_data.csv',index=False)"
   ]
  },
  {
   "cell_type": "code",
   "execution_count": 28,
   "metadata": {},
   "outputs": [
    {
     "data": {
      "text/plain": [
       "['City',\n",
       " 'it',\n",
       " 'ft',\n",
       " 'bt',\n",
       " 'km',\n",
       " 'transmission',\n",
       " 'ownerNo',\n",
       " 'owner',\n",
       " 'oem',\n",
       " 'model',\n",
       " 'modelYear',\n",
       " 'centralVariantId',\n",
       " 'variantName',\n",
       " 'price',\n",
       " 'priceActual',\n",
       " 'priceSaving',\n",
       " 'priceFixedText',\n",
       " 'trendingText.imgUrl',\n",
       " 'trendingText.heading',\n",
       " 'trendingText.desc',\n",
       " 'Registration Year',\n",
       " 'Insurance Validity',\n",
       " 'Fuel Type',\n",
       " 'Seats',\n",
       " 'Kms Driven',\n",
       " 'RTO',\n",
       " 'Ownership',\n",
       " 'Engine Displacement',\n",
       " 'Transmission',\n",
       " 'Year of Manufacture',\n",
       " 'Digital Odometer',\n",
       " 'Digital Clock',\n",
       " 'Centeral Locking',\n",
       " 'Front Impact Beams',\n",
       " 'Remote Fuel Lid Opener',\n",
       " 'Rear Seat Headrest',\n",
       " 'Accessory Power Outlet',\n",
       " 'Wheel Covers',\n",
       " 'Power Windows Rear',\n",
       " 'Air Conditioner',\n",
       " 'Fabric Upholstery',\n",
       " 'Power Antenna',\n",
       " 'Vanity Mirror',\n",
       " 'Chrome Grille',\n",
       " 'Rear Seat Belts',\n",
       " 'Engine Immobilizer',\n",
       " 'Side Impact Beams',\n",
       " 'Remote Trunk Opener',\n",
       " 'Door Ajar Warning',\n",
       " 'Day Night Rear View Mirror',\n",
       " 'Adjustable Head Lights',\n",
       " 'Electronic Multi Tripmeter',\n",
       " 'Halogen Headlamps',\n",
       " 'Passenger Side Rear View Mirror',\n",
       " 'Power Windows Front',\n",
       " 'Anti Theft Device',\n",
       " 'Power Steering',\n",
       " 'Low Fuel Warning Light',\n",
       " 'Centrally Mounted Fuel Tank',\n",
       " 'Glove Compartment',\n",
       " 'Manually Adjustable Exterior Rear View Mirror',\n",
       " 'Adjustable Seats',\n",
       " 'Child Safety Locks',\n",
       " 'Heater',\n",
       " 'Cup Holders Front',\n",
       " 'Roof Rail',\n",
       " 'Navigation System',\n",
       " 'Rear Window Defogger',\n",
       " 'Anti Lock Braking System',\n",
       " 'Rear Window Washer',\n",
       " 'Engine Start Stop Button',\n",
       " 'Impact Sensing Auto Door Lock',\n",
       " 'Engine Check Warning',\n",
       " 'Speakers Rear',\n",
       " 'Rear Camera',\n",
       " 'Bluetooth',\n",
       " 'Trunk Light',\n",
       " 'Passenger Air Bag',\n",
       " 'Seat Belt Warning',\n",
       " 'Touch Screen',\n",
       " 'Usb Auxiliary Input',\n",
       " 'Multifunction Steering Wheel',\n",
       " 'Integrated2Din Audio',\n",
       " 'Pretensioners And Force Limiter Seatbelts',\n",
       " 'Crash Sensor',\n",
       " 'Follow Me Home Headlamps',\n",
       " 'Luggage Hook And Net',\n",
       " 'Alloy Wheels',\n",
       " 'Smart Access Card Entry',\n",
       " 'Speed Sensing Auto Door Lock',\n",
       " 'Power Door Locks',\n",
       " 'Power Adjustable Exterior Rear View Mirror',\n",
       " 'Gear Shift Indicator',\n",
       " 'Outside Temperature Display',\n",
       " 'Height Adjustable Driver Seat',\n",
       " 'No Of Airbags',\n",
       " 'Radio',\n",
       " 'Cd Player',\n",
       " 'Tachometer',\n",
       " 'Keyless Entry',\n",
       " 'Adjustable Steering',\n",
       " 'Electric Folding Rear View Mirror',\n",
       " 'Integrated Antenna',\n",
       " 'Leather Steering Wheel',\n",
       " 'Number Of Speaker',\n",
       " 'Driver Air Bag',\n",
       " 'Outside Rear View Mirror Turn Indicators',\n",
       " 'Fog Lights Front',\n",
       " 'Rear Window Wiper',\n",
       " 'Speakers Front',\n",
       " 'Ebd',\n",
       " 'Vehicle Stability Control System',\n",
       " 'Driving Experience Control Eco',\n",
       " 'Glove Box Cooling',\n",
       " 'Rear Spoiler',\n",
       " 'Tinted Glass',\n",
       " 'Chrome Garnish',\n",
       " 'Rear Reading Lamp',\n",
       " 'Cup Holders Rear',\n",
       " 'Rear ACVents',\n",
       " 'Rear Seat Centre Arm Rest',\n",
       " 'Cruise Control',\n",
       " 'Audio System Remote Control',\n",
       " 'Height Adjustable Front Seat Belts',\n",
       " 'Air Quality Control',\n",
       " 'Voice Control',\n",
       " 'Fog Lights Rear',\n",
       " 'Leather Seats',\n",
       " 'Traction Control',\n",
       " 'Seat Lumbar Support',\n",
       " 'Hill Assist',\n",
       " 'Automatic Head Lamps',\n",
       " 'Anti Theft Alarm',\n",
       " 'Lane Change Indicator',\n",
       " 'Isofix Child Seat Mounts',\n",
       " 'Sun Roof',\n",
       " 'Automatic Driving Lights',\n",
       " 'Battery Saver',\n",
       " 'Tailgate Ajar',\n",
       " 'Steering Wheel Gearshift Paddles',\n",
       " 'LEDTaillights',\n",
       " 'Brake Assist',\n",
       " 'Rain Sensing Wiper',\n",
       " 'Cigarette Lighter',\n",
       " 'Dual Tone Body Colour',\n",
       " 'Leather Wrap Gear Shift Selector',\n",
       " 'Mirror Link',\n",
       " 'Adjustable Headrest',\n",
       " 'Anti Pinch Power Windows',\n",
       " 'Tyre Pressure Monitor',\n",
       " 'Side Air Bag Rear',\n",
       " 'Knee Airbags',\n",
       " 'Compass',\n",
       " 'Side Air Bag Front',\n",
       " 'LEDHeadlights',\n",
       " 'Clutch Lock',\n",
       " 'Apple Car Play',\n",
       " 'Cornering Headlamps',\n",
       " 'Hands Free Tailgate',\n",
       " 'Cornering Foglamps',\n",
       " 'Android Auto',\n",
       " 'Dual Tone Dashboard',\n",
       " 'Drive Modes',\n",
       " 'LEDDRLs',\n",
       " 'Active Noise Cancellation',\n",
       " 'Wireless Phone Charging',\n",
       " 'Projector Headlamps',\n",
       " 'Speed Alert',\n",
       " 'Moon Roof',\n",
       " 'Eletronic Stability Control',\n",
       " 'Touch Screen Size',\n",
       " 'Cd Changer',\n",
       " 'Xenon Headlamps',\n",
       " 'Power Boot',\n",
       " 'Rear Folding Table',\n",
       " 'Dvd Player',\n",
       " 'Smoke Headlamps',\n",
       " 'Internal Storage',\n",
       " 'Rear Entertainment System',\n",
       " 'LEDFog Lamps',\n",
       " 'Geo Fence Alert',\n",
       " 'Ventilated Seats',\n",
       " 'Remote Engine Start Stop',\n",
       " 'View360Camera',\n",
       " 'Steering Mounted Tripmeter',\n",
       " 'Remote Climate Control',\n",
       " 'Remote Horn Light Control',\n",
       " 'Heated Wing Mirror',\n",
       " 'Side Stepper',\n",
       " 'Hill Descent Control',\n",
       " 'Blind Spot Monitor',\n",
       " 'Heads Up Display',\n",
       " 'Sos Emergency Assistance',\n",
       " 'Cassette Player',\n",
       " 'Find My Car Location',\n",
       " 'Wifi Connectivity',\n",
       " 'Headlamp Washers',\n",
       " 'Real Time Vehicle Tracking',\n",
       " 'Roof Carrier',\n",
       " 'Smart Key Band',\n",
       " 'Lane Watch Camera',\n",
       " 'Removable Convertible Top',\n",
       " 'Power Folding3rd Row Seat',\n",
       " 'Mileage',\n",
       " 'Engine',\n",
       " 'Max Power',\n",
       " 'Torque',\n",
       " 'Seats.1',\n",
       " 'Color',\n",
       " 'Engine Type',\n",
       " 'Displacement',\n",
       " 'Max Torque',\n",
       " 'No of Cylinder',\n",
       " 'Values per Cylinder',\n",
       " 'Value Configuration',\n",
       " 'Fuel Suppy System',\n",
       " 'BoreX Stroke',\n",
       " 'Compression Ratio',\n",
       " 'Turbo Charger',\n",
       " 'Super Charger',\n",
       " 'Length',\n",
       " 'Width',\n",
       " 'Height',\n",
       " 'Wheel Base',\n",
       " 'Front Tread',\n",
       " 'Rear Tread',\n",
       " 'Kerb Weight',\n",
       " 'Gross Weight',\n",
       " 'Gear Box',\n",
       " 'Drive Type',\n",
       " 'Seating Capacity',\n",
       " 'Steering Type',\n",
       " 'Turning Radius',\n",
       " 'Front Brake Type',\n",
       " 'Rear Brake Type',\n",
       " 'Top Speed',\n",
       " 'Acceleration',\n",
       " 'Tyre Type',\n",
       " 'No Door Numbers',\n",
       " 'Cargo Volumn',\n",
       " 'Wheel Size',\n",
       " 'Alloy Wheel Size',\n",
       " 'Ground Clearance Unladen']"
      ]
     },
     "execution_count": 28,
     "metadata": {},
     "output_type": "execute_result"
    }
   ],
   "source": [
    "list(df.columns)\n",
    "# or\n",
    "#df.columns.tolist()\n",
    "\n",
    "\n"
   ]
  },
  {
   "cell_type": "code",
   "execution_count": 29,
   "metadata": {},
   "outputs": [
    {
     "data": {
      "text/plain": [
       "['Mileage']"
      ]
     },
     "execution_count": 29,
     "metadata": {},
     "output_type": "execute_result"
    }
   ],
   "source": [
    "\n",
    "[col for col in df.columns if 'Mileage' in col]\n"
   ]
  },
  {
   "cell_type": "code",
   "execution_count": null,
   "metadata": {},
   "outputs": [],
   "source": []
  },
  {
   "cell_type": "code",
   "execution_count": null,
   "metadata": {},
   "outputs": [],
   "source": []
  }
 ],
 "metadata": {
  "kernelspec": {
   "display_name": "base",
   "language": "python",
   "name": "python3"
  },
  "language_info": {
   "codemirror_mode": {
    "name": "ipython",
    "version": 3
   },
   "file_extension": ".py",
   "mimetype": "text/x-python",
   "name": "python",
   "nbconvert_exporter": "python",
   "pygments_lexer": "ipython3",
   "version": "3.12.4"
  }
 },
 "nbformat": 4,
 "nbformat_minor": 4
}
