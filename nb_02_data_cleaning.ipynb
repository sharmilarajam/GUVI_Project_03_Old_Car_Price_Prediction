{
 "cells": [
  {
   "cell_type": "markdown",
   "metadata": {},
   "source": [
    "### Clean all data together so that the categorical conversion is applicable.!"
   ]
  },
  {
   "cell_type": "code",
   "execution_count": 432,
   "metadata": {},
   "outputs": [
    {
     "data": {
      "text/html": [
       "<div>\n",
       "<style scoped>\n",
       "    .dataframe tbody tr th:only-of-type {\n",
       "        vertical-align: middle;\n",
       "    }\n",
       "\n",
       "    .dataframe tbody tr th {\n",
       "        vertical-align: top;\n",
       "    }\n",
       "\n",
       "    .dataframe thead th {\n",
       "        text-align: right;\n",
       "    }\n",
       "</style>\n",
       "<table border=\"1\" class=\"dataframe\">\n",
       "  <thead>\n",
       "    <tr style=\"text-align: right;\">\n",
       "      <th></th>\n",
       "      <th>City</th>\n",
       "      <th>it</th>\n",
       "      <th>ft</th>\n",
       "      <th>bt</th>\n",
       "      <th>km</th>\n",
       "      <th>transmission</th>\n",
       "      <th>ownerNo</th>\n",
       "      <th>owner</th>\n",
       "      <th>oem</th>\n",
       "      <th>model</th>\n",
       "      <th>...</th>\n",
       "      <th>Front Brake Type</th>\n",
       "      <th>Rear Brake Type</th>\n",
       "      <th>Top Speed</th>\n",
       "      <th>Acceleration</th>\n",
       "      <th>Tyre Type</th>\n",
       "      <th>No Door Numbers</th>\n",
       "      <th>Cargo Volumn</th>\n",
       "      <th>Wheel Size</th>\n",
       "      <th>Alloy Wheel Size</th>\n",
       "      <th>Ground Clearance Unladen</th>\n",
       "    </tr>\n",
       "  </thead>\n",
       "  <tbody>\n",
       "    <tr>\n",
       "      <th>0</th>\n",
       "      <td>Bangalore</td>\n",
       "      <td>0</td>\n",
       "      <td>Petrol</td>\n",
       "      <td>Hatchback</td>\n",
       "      <td>1,20,000</td>\n",
       "      <td>Manual</td>\n",
       "      <td>3</td>\n",
       "      <td>3rd Owner</td>\n",
       "      <td>Maruti</td>\n",
       "      <td>Maruti Celerio</td>\n",
       "      <td>...</td>\n",
       "      <td>Ventilated Disc</td>\n",
       "      <td>Drum</td>\n",
       "      <td>150 Kmph</td>\n",
       "      <td>15.05 Seconds</td>\n",
       "      <td>Tubeless, Radial</td>\n",
       "      <td>5.0</td>\n",
       "      <td>235-litres</td>\n",
       "      <td>NaN</td>\n",
       "      <td>NaN</td>\n",
       "      <td>NaN</td>\n",
       "    </tr>\n",
       "    <tr>\n",
       "      <th>1</th>\n",
       "      <td>Bangalore</td>\n",
       "      <td>0</td>\n",
       "      <td>Petrol</td>\n",
       "      <td>SUV</td>\n",
       "      <td>32,706</td>\n",
       "      <td>Manual</td>\n",
       "      <td>2</td>\n",
       "      <td>2nd Owner</td>\n",
       "      <td>Ford</td>\n",
       "      <td>Ford Ecosport</td>\n",
       "      <td>...</td>\n",
       "      <td>Ventilated Disc</td>\n",
       "      <td>Drum</td>\n",
       "      <td>NaN</td>\n",
       "      <td>NaN</td>\n",
       "      <td>Tubeless,Radial</td>\n",
       "      <td>4.0</td>\n",
       "      <td>352-litres</td>\n",
       "      <td>16</td>\n",
       "      <td>16</td>\n",
       "      <td>NaN</td>\n",
       "    </tr>\n",
       "  </tbody>\n",
       "</table>\n",
       "<p>2 rows × 243 columns</p>\n",
       "</div>"
      ],
      "text/plain": [
       "        City  it      ft         bt        km transmission  ownerNo  \\\n",
       "0  Bangalore   0  Petrol  Hatchback  1,20,000       Manual        3   \n",
       "1  Bangalore   0  Petrol        SUV    32,706       Manual        2   \n",
       "\n",
       "       owner     oem           model  ...  Front Brake Type  Rear Brake Type  \\\n",
       "0  3rd Owner  Maruti  Maruti Celerio  ...   Ventilated Disc             Drum   \n",
       "1  2nd Owner    Ford   Ford Ecosport  ...   Ventilated Disc             Drum   \n",
       "\n",
       "  Top Speed   Acceleration         Tyre Type  No Door Numbers  Cargo Volumn  \\\n",
       "0  150 Kmph  15.05 Seconds  Tubeless, Radial              5.0    235-litres   \n",
       "1       NaN            NaN   Tubeless,Radial              4.0    352-litres   \n",
       "\n",
       "  Wheel Size Alloy Wheel Size Ground Clearance Unladen  \n",
       "0        NaN              NaN                      NaN  \n",
       "1         16               16                      NaN  \n",
       "\n",
       "[2 rows x 243 columns]"
      ]
     },
     "execution_count": 432,
     "metadata": {},
     "output_type": "execute_result"
    }
   ],
   "source": [
    "import pandas as pd\n",
    "import json\n",
    "from pandas import json_normalize\n",
    "\n",
    "df=pd.read_csv(r'./parsed_data/all_cars_parsed_data.csv',header=[0])\n",
    "df.head(2)"
   ]
  },
  {
   "cell_type": "markdown",
   "metadata": {},
   "source": [
    "- Keep int64, float64, and bool as-is\n",
    "- Attempt to convert object columns to numeric — if successful, assign the result\n",
    "- Attempt boolean conversion for text-based columns like 'yes'/'no', 'true'/'false'\n",
    "- Leave everything else as object"
   ]
  },
  {
   "cell_type": "code",
   "execution_count": 433,
   "metadata": {},
   "outputs": [],
   "source": [
    "# Attempt to convert each column\n",
    "for col in df.columns:\n",
    "    # Skip already numeric or boolean\n",
    "    if pd.api.types.is_numeric_dtype(df[col]) or pd.api.types.is_bool_dtype(df[col]):\n",
    "        continue\n",
    "    \n",
    "    # Try converting to numeric (int/float)\n",
    "    converted = pd.to_numeric(df[col], errors='coerce')\n",
    "    \n",
    "    # If it successfully converts (not all NaNs), use it\n",
    "    if not converted.isna().all():\n",
    "        df[col] = converted\n",
    "        continue\n",
    "    \n",
    "    # Try boolean conversion for strings like 'yes', 'no', 'true', 'false'\n",
    "    unique_vals = df[col].dropna().str.lower().unique()\n",
    "    if set(unique_vals).issubset({'yes', 'no', 'true', 'false', '0', '1'}):\n",
    "        df[col] = df[col].str.lower().map({'yes': True, 'no': False, 'true': True, 'false': False, '1': True, '0': False})\n"
   ]
  },
  {
   "cell_type": "markdown",
   "metadata": {},
   "source": [
    "### check col dtype"
   ]
  },
  {
   "cell_type": "code",
   "execution_count": 434,
   "metadata": {},
   "outputs": [],
   "source": [
    "# Group similar types together\n",
    "def get_count_dtypes(df):\n",
    "    dtype_counts = {\n",
    "        'int': 0,\n",
    "        'float': 0,\n",
    "        'bool': 0,\n",
    "        'object': 0,\n",
    "        'datetime': 0,\n",
    "        'other': 0\n",
    "    }\n",
    "    \n",
    "    for dtype in df.dtypes:\n",
    "        if pd.api.types.is_integer_dtype(dtype):\n",
    "            dtype_counts['int'] += 1\n",
    "        elif pd.api.types.is_float_dtype(dtype):\n",
    "            dtype_counts['float'] += 1\n",
    "        elif pd.api.types.is_bool_dtype(dtype):\n",
    "            dtype_counts['bool'] += 1\n",
    "        elif pd.api.types.is_object_dtype(dtype):\n",
    "            dtype_counts['object'] += 1\n",
    "        elif pd.api.types.is_datetime64_any_dtype(dtype):\n",
    "            dtype_counts['datetime'] += 1\n",
    "        else:\n",
    "            dtype_counts['other'] += 1\n",
    "    \n",
    "    # Display the count\n",
    "    print(pd.Series(dtype_counts))\n"
   ]
  },
  {
   "cell_type": "code",
   "execution_count": 435,
   "metadata": {},
   "outputs": [],
   "source": [
    "def convert_object_to_int_float(df):\n",
    "    # Attempt to convert each column\n",
    "    for col in df.columns:\n",
    "        # Skip already numeric or boolean\n",
    "        if pd.api.types.is_numeric_dtype(df[col]) or pd.api.types.is_bool_dtype(df[col]):\n",
    "            continue\n",
    "        \n",
    "        # Try converting to numeric (int/float)\n",
    "        converted = pd.to_numeric(df[col], errors='coerce')\n",
    "        \n",
    "        # If it successfully converts (not all NaNs), use it\n",
    "        if not converted.isna().all():\n",
    "            df[col] = converted\n",
    "            continue\n",
    "        \n",
    "        # Try boolean conversion for strings like 'yes', 'no', 'true', 'false'\n",
    "        unique_vals = df[col].dropna().str.lower().unique()\n",
    "        if set(unique_vals).issubset({'yes', 'no', 'true', 'false', '0', '1'}):\n",
    "            df[col] = df[col].str.lower().map({'yes': True, 'no': False, 'true': True, 'false': False, '1': True, '0': False})\n",
    "\n",
    "    return df"
   ]
  },
  {
   "cell_type": "code",
   "execution_count": 436,
   "metadata": {},
   "outputs": [
    {
     "name": "stdout",
     "output_type": "stream",
     "text": [
      "int           4\n",
      "float        31\n",
      "bool        173\n",
      "object       35\n",
      "datetime      0\n",
      "other         0\n",
      "dtype: int64\n"
     ]
    }
   ],
   "source": [
    "get_count_dtypes(df)"
   ]
  },
  {
   "cell_type": "markdown",
   "metadata": {},
   "source": [
    "### convert True/False to 1/0"
   ]
  },
  {
   "cell_type": "code",
   "execution_count": 437,
   "metadata": {},
   "outputs": [],
   "source": [
    "# Convert all boolean columns: True → 1, False → 0\n",
    "bool_cols = df.select_dtypes(include='bool').columns\n",
    "df[bool_cols] = df[bool_cols].astype(int)\n"
   ]
  },
  {
   "cell_type": "code",
   "execution_count": 438,
   "metadata": {},
   "outputs": [
    {
     "name": "stdout",
     "output_type": "stream",
     "text": [
      "int         177\n",
      "float        31\n",
      "bool          0\n",
      "object       35\n",
      "datetime      0\n",
      "other         0\n",
      "dtype: int64\n"
     ]
    }
   ],
   "source": [
    "get_count_dtypes(df)"
   ]
  },
  {
   "cell_type": "markdown",
   "metadata": {},
   "source": [
    "### Get object cols"
   ]
  },
  {
   "cell_type": "code",
   "execution_count": 439,
   "metadata": {},
   "outputs": [
    {
     "name": "stdout",
     "output_type": "stream",
     "text": [
      "Index(['City', 'ft', 'bt', 'transmission', 'owner', 'oem', 'model', 'price',\n",
      "       'priceActual', 'trendingText.imgUrl', 'trendingText.heading',\n",
      "       'trendingText.desc', 'Fuel Type', 'Seats', 'Kms Driven', 'RTO',\n",
      "       'Ownership', 'Engine Displacement', 'Transmission', 'Mileage', 'Engine',\n",
      "       'Max Power', 'Color', 'Engine Type', 'Max Torque',\n",
      "       'Value Configuration', 'Fuel Suppy System', 'BoreX Stroke',\n",
      "       'Turbo Charger', 'Super Charger', 'Drive Type', 'Steering Type',\n",
      "       'Front Brake Type', 'Rear Brake Type', 'Tyre Type'],\n",
      "      dtype='object')\n"
     ]
    }
   ],
   "source": [
    "# Get list of all object dtype columns\n",
    "object_cols = df.select_dtypes(include='object').columns\n",
    "print(object_cols)"
   ]
  },
  {
   "cell_type": "code",
   "execution_count": 440,
   "metadata": {},
   "outputs": [],
   "source": [
    "df_object=df[object_cols]"
   ]
  },
  {
   "cell_type": "code",
   "execution_count": 441,
   "metadata": {},
   "outputs": [
    {
     "data": {
      "text/html": [
       "<div>\n",
       "<style scoped>\n",
       "    .dataframe tbody tr th:only-of-type {\n",
       "        vertical-align: middle;\n",
       "    }\n",
       "\n",
       "    .dataframe tbody tr th {\n",
       "        vertical-align: top;\n",
       "    }\n",
       "\n",
       "    .dataframe thead th {\n",
       "        text-align: right;\n",
       "    }\n",
       "</style>\n",
       "<table border=\"1\" class=\"dataframe\">\n",
       "  <thead>\n",
       "    <tr style=\"text-align: right;\">\n",
       "      <th></th>\n",
       "      <th>City</th>\n",
       "      <th>ft</th>\n",
       "      <th>bt</th>\n",
       "      <th>transmission</th>\n",
       "      <th>owner</th>\n",
       "      <th>oem</th>\n",
       "      <th>model</th>\n",
       "      <th>price</th>\n",
       "      <th>priceActual</th>\n",
       "      <th>trendingText.imgUrl</th>\n",
       "      <th>...</th>\n",
       "      <th>Value Configuration</th>\n",
       "      <th>Fuel Suppy System</th>\n",
       "      <th>BoreX Stroke</th>\n",
       "      <th>Turbo Charger</th>\n",
       "      <th>Super Charger</th>\n",
       "      <th>Drive Type</th>\n",
       "      <th>Steering Type</th>\n",
       "      <th>Front Brake Type</th>\n",
       "      <th>Rear Brake Type</th>\n",
       "      <th>Tyre Type</th>\n",
       "    </tr>\n",
       "  </thead>\n",
       "  <tbody>\n",
       "    <tr>\n",
       "      <th>0</th>\n",
       "      <td>Bangalore</td>\n",
       "      <td>Petrol</td>\n",
       "      <td>Hatchback</td>\n",
       "      <td>Manual</td>\n",
       "      <td>3rd Owner</td>\n",
       "      <td>Maruti</td>\n",
       "      <td>Maruti Celerio</td>\n",
       "      <td>₹ 4 Lakh</td>\n",
       "      <td>NaN</td>\n",
       "      <td>https://stimg.cardekho.com/used-cars/common/ic...</td>\n",
       "      <td>...</td>\n",
       "      <td>DOHC</td>\n",
       "      <td>MPFi</td>\n",
       "      <td>73 X 82 mm</td>\n",
       "      <td>No</td>\n",
       "      <td>False</td>\n",
       "      <td>FWD</td>\n",
       "      <td>Power</td>\n",
       "      <td>Ventilated Disc</td>\n",
       "      <td>Drum</td>\n",
       "      <td>Tubeless, Radial</td>\n",
       "    </tr>\n",
       "    <tr>\n",
       "      <th>1</th>\n",
       "      <td>Bangalore</td>\n",
       "      <td>Petrol</td>\n",
       "      <td>SUV</td>\n",
       "      <td>Manual</td>\n",
       "      <td>2nd Owner</td>\n",
       "      <td>Ford</td>\n",
       "      <td>Ford Ecosport</td>\n",
       "      <td>₹ 8.11 Lakh</td>\n",
       "      <td>NaN</td>\n",
       "      <td>https://stimg.cardekho.com/used-cars/common/ic...</td>\n",
       "      <td>...</td>\n",
       "      <td>DOHC</td>\n",
       "      <td>Direct Injection</td>\n",
       "      <td>79 X 76.5 mm</td>\n",
       "      <td>No</td>\n",
       "      <td>False</td>\n",
       "      <td>FWD</td>\n",
       "      <td>Power</td>\n",
       "      <td>Ventilated Disc</td>\n",
       "      <td>Drum</td>\n",
       "      <td>Tubeless,Radial</td>\n",
       "    </tr>\n",
       "  </tbody>\n",
       "</table>\n",
       "<p>2 rows × 35 columns</p>\n",
       "</div>"
      ],
      "text/plain": [
       "        City      ft         bt transmission      owner     oem  \\\n",
       "0  Bangalore  Petrol  Hatchback       Manual  3rd Owner  Maruti   \n",
       "1  Bangalore  Petrol        SUV       Manual  2nd Owner    Ford   \n",
       "\n",
       "            model        price priceActual  \\\n",
       "0  Maruti Celerio     ₹ 4 Lakh         NaN   \n",
       "1   Ford Ecosport  ₹ 8.11 Lakh         NaN   \n",
       "\n",
       "                                 trendingText.imgUrl  ... Value Configuration  \\\n",
       "0  https://stimg.cardekho.com/used-cars/common/ic...  ...                DOHC   \n",
       "1  https://stimg.cardekho.com/used-cars/common/ic...  ...                DOHC   \n",
       "\n",
       "  Fuel Suppy System  BoreX Stroke Turbo Charger Super Charger Drive Type  \\\n",
       "0              MPFi    73 X 82 mm            No         False        FWD   \n",
       "1  Direct Injection  79 X 76.5 mm            No         False        FWD   \n",
       "\n",
       "  Steering Type Front Brake Type Rear Brake Type         Tyre Type  \n",
       "0         Power  Ventilated Disc            Drum  Tubeless, Radial  \n",
       "1         Power  Ventilated Disc            Drum   Tubeless,Radial  \n",
       "\n",
       "[2 rows x 35 columns]"
      ]
     },
     "execution_count": 441,
     "metadata": {},
     "output_type": "execute_result"
    }
   ],
   "source": [
    "df_object.head(2)"
   ]
  },
  {
   "cell_type": "code",
   "execution_count": 442,
   "metadata": {},
   "outputs": [
    {
     "name": "stdout",
     "output_type": "stream",
     "text": [
      "oem                      33\n",
      "model                   315\n",
      "price                  1400\n",
      "priceActual             721\n",
      "Kms Driven             4089\n",
      "RTO                     464\n",
      "Engine Displacement     150\n",
      "Mileage                 522\n",
      "Engine                  150\n",
      "Max Power               760\n",
      "Color                   153\n",
      "Engine Type             508\n",
      "Max Torque              617\n",
      "Value Configuration      13\n",
      "Fuel Suppy System        81\n",
      "BoreX Stroke            171\n",
      "Drive Type               20\n",
      "Front Brake Type         34\n",
      "Rear Brake Type          35\n",
      "Tyre Type                34\n",
      "dtype: int64\n"
     ]
    }
   ],
   "source": [
    "nunique_counts = df.select_dtypes(include='object').nunique()\n",
    "\n",
    "# Filter columns with unique values > 10\n",
    "cols_gt_10_unique = nunique_counts[nunique_counts > 10]\n",
    "print(cols_gt_10_unique)"
   ]
  },
  {
   "cell_type": "markdown",
   "metadata": {},
   "source": [
    "### select few imp columns and clean the data to float"
   ]
  },
  {
   "cell_type": "code",
   "execution_count": 443,
   "metadata": {},
   "outputs": [],
   "source": [
    "df_tmp=df_object[['price','Kms Driven','Engine Displacement','Mileage','Max Power']]"
   ]
  },
  {
   "cell_type": "code",
   "execution_count": 444,
   "metadata": {},
   "outputs": [],
   "source": [
    "# Clean price\n",
    "def clean_price(val):\n",
    "    if pd.isna(val):\n",
    "        return None\n",
    "    val = val.replace(\"₹\", \"\").replace(\",\", \"\").strip().lower()\n",
    "    if 'lakh' in val:\n",
    "        return float(val.replace('lakh', '').strip()) * 1e5\n",
    "    if 'crore' in val:\n",
    "        return float(val.replace('crore', '').strip()) * 1e7\n",
    "    return float(val)\n",
    "\n",
    "# Apply transformations\n",
    "df_tmp.loc[:, 'price'] = df_tmp['price'].apply(clean_price)\n"
   ]
  },
  {
   "cell_type": "code",
   "execution_count": 445,
   "metadata": {},
   "outputs": [
    {
     "name": "stderr",
     "output_type": "stream",
     "text": [
      "/tmp/ipykernel_17363/2004351802.py:2: SettingWithCopyWarning: \n",
      "A value is trying to be set on a copy of a slice from a DataFrame.\n",
      "Try using .loc[row_indexer,col_indexer] = value instead\n",
      "\n",
      "See the caveats in the documentation: https://pandas.pydata.org/pandas-docs/stable/user_guide/indexing.html#returning-a-view-versus-a-copy\n",
      "  df_tmp['Kms Driven'] = df_tmp['Kms Driven'].str.replace(',', '').str.extract('(\\d+)').astype(float)\n",
      "/tmp/ipykernel_17363/2004351802.py:5: SettingWithCopyWarning: \n",
      "A value is trying to be set on a copy of a slice from a DataFrame.\n",
      "Try using .loc[row_indexer,col_indexer] = value instead\n",
      "\n",
      "See the caveats in the documentation: https://pandas.pydata.org/pandas-docs/stable/user_guide/indexing.html#returning-a-view-versus-a-copy\n",
      "  df_tmp['Engine Displacement'] = df_tmp['Engine Displacement'].str.extract('(\\d+)').astype(float)\n",
      "/tmp/ipykernel_17363/2004351802.py:8: SettingWithCopyWarning: \n",
      "A value is trying to be set on a copy of a slice from a DataFrame.\n",
      "Try using .loc[row_indexer,col_indexer] = value instead\n",
      "\n",
      "See the caveats in the documentation: https://pandas.pydata.org/pandas-docs/stable/user_guide/indexing.html#returning-a-view-versus-a-copy\n",
      "  df_tmp['Mileage'] = df_tmp['Mileage'].str.extract(r'([\\d.]+)').astype(float)\n",
      "/tmp/ipykernel_17363/2004351802.py:11: SettingWithCopyWarning: \n",
      "A value is trying to be set on a copy of a slice from a DataFrame.\n",
      "Try using .loc[row_indexer,col_indexer] = value instead\n",
      "\n",
      "See the caveats in the documentation: https://pandas.pydata.org/pandas-docs/stable/user_guide/indexing.html#returning-a-view-versus-a-copy\n",
      "  df_tmp['Max Power'] = df_tmp['Max Power'].str.replace(',', '').str.extract(r'([\\d.]+)').astype(float)\n"
     ]
    }
   ],
   "source": [
    "# Clean Kms Driven: remove commas and extract numeric values\n",
    "df_tmp['Kms Driven'] = df_tmp['Kms Driven'].str.replace(',', '').str.extract('(\\d+)').astype(float)\n",
    "\n",
    "# Clean Engine Displacement: Extract digits from the \"cc\" part\n",
    "df_tmp['Engine Displacement'] = df_tmp['Engine Displacement'].str.extract('(\\d+)').astype(float)\n",
    "\n",
    "# Clean Mileage: Extract the numeric value (assuming it's a float)\n",
    "df_tmp['Mileage'] = df_tmp['Mileage'].str.extract(r'([\\d.]+)').astype(float)\n",
    "\n",
    "# Clean Max Power: Extract numeric part of the max power value\n",
    "df_tmp['Max Power'] = df_tmp['Max Power'].str.replace(',', '').str.extract(r'([\\d.]+)').astype(float)"
   ]
  },
  {
   "cell_type": "markdown",
   "metadata": {},
   "source": [
    "### merge the few cleaned columns into original df"
   ]
  },
  {
   "cell_type": "code",
   "execution_count": 446,
   "metadata": {},
   "outputs": [],
   "source": [
    "df.update(df_tmp)"
   ]
  },
  {
   "cell_type": "code",
   "execution_count": 447,
   "metadata": {},
   "outputs": [],
   "source": [
    "df=convert_object_to_int_float(df)"
   ]
  },
  {
   "cell_type": "code",
   "execution_count": 448,
   "metadata": {},
   "outputs": [
    {
     "data": {
      "text/plain": [
       "0        400000.0\n",
       "1        811000.0\n",
       "2        585000.0\n",
       "3        462000.0\n",
       "4        790000.0\n",
       "          ...    \n",
       "8364     700000.0\n",
       "8365    2000000.0\n",
       "8366    3500000.0\n",
       "8367     850000.0\n",
       "8368    1500000.0\n",
       "Name: price, Length: 8369, dtype: float64"
      ]
     },
     "execution_count": 448,
     "metadata": {},
     "output_type": "execute_result"
    }
   ],
   "source": [
    "df['price']"
   ]
  },
  {
   "cell_type": "code",
   "execution_count": 449,
   "metadata": {},
   "outputs": [
    {
     "name": "stdout",
     "output_type": "stream",
     "text": [
      "int         177\n",
      "float        37\n",
      "bool          0\n",
      "object       29\n",
      "datetime      0\n",
      "other         0\n",
      "dtype: int64\n"
     ]
    }
   ],
   "source": [
    "get_count_dtypes(df)"
   ]
  },
  {
   "cell_type": "code",
   "execution_count": 450,
   "metadata": {},
   "outputs": [
    {
     "name": "stdout",
     "output_type": "stream",
     "text": [
      "Index(['City', 'ft', 'bt', 'transmission', 'owner', 'oem', 'model',\n",
      "       'priceActual', 'trendingText.imgUrl', 'trendingText.heading',\n",
      "       'trendingText.desc', 'Fuel Type', 'Seats', 'RTO', 'Ownership',\n",
      "       'Transmission', 'Engine', 'Color', 'Engine Type', 'Max Torque',\n",
      "       'Value Configuration', 'Fuel Suppy System', 'BoreX Stroke',\n",
      "       'Turbo Charger', 'Drive Type', 'Steering Type', 'Front Brake Type',\n",
      "       'Rear Brake Type', 'Tyre Type'],\n",
      "      dtype='object')\n"
     ]
    }
   ],
   "source": [
    "# Get list of all object dtype columns\n",
    "object_cols = df.select_dtypes(include='object').columns\n",
    "print(object_cols)\n",
    "df_object =df[object_cols]"
   ]
  },
  {
   "cell_type": "code",
   "execution_count": 451,
   "metadata": {},
   "outputs": [
    {
     "data": {
      "text/html": [
       "<div>\n",
       "<style scoped>\n",
       "    .dataframe tbody tr th:only-of-type {\n",
       "        vertical-align: middle;\n",
       "    }\n",
       "\n",
       "    .dataframe tbody tr th {\n",
       "        vertical-align: top;\n",
       "    }\n",
       "\n",
       "    .dataframe thead th {\n",
       "        text-align: right;\n",
       "    }\n",
       "</style>\n",
       "<table border=\"1\" class=\"dataframe\">\n",
       "  <thead>\n",
       "    <tr style=\"text-align: right;\">\n",
       "      <th></th>\n",
       "      <th>City</th>\n",
       "      <th>ft</th>\n",
       "      <th>bt</th>\n",
       "      <th>transmission</th>\n",
       "      <th>owner</th>\n",
       "      <th>oem</th>\n",
       "      <th>model</th>\n",
       "      <th>priceActual</th>\n",
       "      <th>trendingText.imgUrl</th>\n",
       "      <th>trendingText.heading</th>\n",
       "      <th>...</th>\n",
       "      <th>Max Torque</th>\n",
       "      <th>Value Configuration</th>\n",
       "      <th>Fuel Suppy System</th>\n",
       "      <th>BoreX Stroke</th>\n",
       "      <th>Turbo Charger</th>\n",
       "      <th>Drive Type</th>\n",
       "      <th>Steering Type</th>\n",
       "      <th>Front Brake Type</th>\n",
       "      <th>Rear Brake Type</th>\n",
       "      <th>Tyre Type</th>\n",
       "    </tr>\n",
       "  </thead>\n",
       "  <tbody>\n",
       "    <tr>\n",
       "      <th>0</th>\n",
       "      <td>0</td>\n",
       "      <td>4</td>\n",
       "      <td>2</td>\n",
       "      <td>1</td>\n",
       "      <td>3</td>\n",
       "      <td>20</td>\n",
       "      <td>160</td>\n",
       "      <td>721</td>\n",
       "      <td>0</td>\n",
       "      <td>0</td>\n",
       "      <td>...</td>\n",
       "      <td>593</td>\n",
       "      <td>3</td>\n",
       "      <td>53</td>\n",
       "      <td>30</td>\n",
       "      <td>1</td>\n",
       "      <td>12</td>\n",
       "      <td>6</td>\n",
       "      <td>22</td>\n",
       "      <td>7</td>\n",
       "      <td>23</td>\n",
       "    </tr>\n",
       "    <tr>\n",
       "      <th>1</th>\n",
       "      <td>0</td>\n",
       "      <td>4</td>\n",
       "      <td>7</td>\n",
       "      <td>1</td>\n",
       "      <td>2</td>\n",
       "      <td>6</td>\n",
       "      <td>50</td>\n",
       "      <td>721</td>\n",
       "      <td>0</td>\n",
       "      <td>0</td>\n",
       "      <td>...</td>\n",
       "      <td>146</td>\n",
       "      <td>3</td>\n",
       "      <td>23</td>\n",
       "      <td>102</td>\n",
       "      <td>1</td>\n",
       "      <td>12</td>\n",
       "      <td>6</td>\n",
       "      <td>22</td>\n",
       "      <td>7</td>\n",
       "      <td>26</td>\n",
       "    </tr>\n",
       "  </tbody>\n",
       "</table>\n",
       "<p>2 rows × 29 columns</p>\n",
       "</div>"
      ],
      "text/plain": [
       "   City  ft  bt  transmission  owner  oem  model  priceActual  \\\n",
       "0     0   4   2             1      3   20    160          721   \n",
       "1     0   4   7             1      2    6     50          721   \n",
       "\n",
       "   trendingText.imgUrl  trendingText.heading  ...  Max Torque  \\\n",
       "0                    0                     0  ...         593   \n",
       "1                    0                     0  ...         146   \n",
       "\n",
       "   Value Configuration  Fuel Suppy System  BoreX Stroke  Turbo Charger  \\\n",
       "0                    3                 53            30              1   \n",
       "1                    3                 23           102              1   \n",
       "\n",
       "   Drive Type  Steering Type  Front Brake Type  Rear Brake Type  Tyre Type  \n",
       "0          12              6                22                7         23  \n",
       "1          12              6                22                7         26  \n",
       "\n",
       "[2 rows x 29 columns]"
      ]
     },
     "execution_count": 451,
     "metadata": {},
     "output_type": "execute_result"
    }
   ],
   "source": [
    "# Step 1: Convert object columns to categorical type\n",
    "df_object = df_object.apply(lambda x: x.astype('category') if x.dtype == 'object' else x)\n",
    "\n",
    "# Step 2: Label Encoding for each column with categorical data\n",
    "label_encoder = LabelEncoder()\n",
    "\n",
    "# Apply label encoding on all categorical columns\n",
    "for col in df_object.select_dtypes(include='category').columns:\n",
    "    df_object[col] = label_encoder.fit_transform(df_object[col])\n",
    "\n",
    "# Step 3: Print the resulting DataFrame\n",
    "df_object.head(2)"
   ]
  },
  {
   "cell_type": "code",
   "execution_count": 452,
   "metadata": {},
   "outputs": [],
   "source": [
    "df.update(df_object)"
   ]
  },
  {
   "cell_type": "code",
   "execution_count": 453,
   "metadata": {},
   "outputs": [
    {
     "name": "stdout",
     "output_type": "stream",
     "text": [
      "(8369, 243)\n"
     ]
    }
   ],
   "source": [
    "print(df.shape)"
   ]
  },
  {
   "cell_type": "code",
   "execution_count": 454,
   "metadata": {},
   "outputs": [],
   "source": [
    "df=convert_object_to_int_float(df)"
   ]
  },
  {
   "cell_type": "code",
   "execution_count": 455,
   "metadata": {},
   "outputs": [
    {
     "data": {
      "text/plain": [
       "0        400000.0\n",
       "1        811000.0\n",
       "2        585000.0\n",
       "3        462000.0\n",
       "4        790000.0\n",
       "          ...    \n",
       "8364     700000.0\n",
       "8365    2000000.0\n",
       "8366    3500000.0\n",
       "8367     850000.0\n",
       "8368    1500000.0\n",
       "Name: price, Length: 8369, dtype: float64"
      ]
     },
     "execution_count": 455,
     "metadata": {},
     "output_type": "execute_result"
    }
   ],
   "source": [
    "df['price']"
   ]
  },
  {
   "cell_type": "code",
   "execution_count": 456,
   "metadata": {},
   "outputs": [
    {
     "name": "stdout",
     "output_type": "stream",
     "text": [
      "int         206\n",
      "float        37\n",
      "bool          0\n",
      "object        0\n",
      "datetime      0\n",
      "other         0\n",
      "dtype: int64\n"
     ]
    }
   ],
   "source": [
    "get_count_dtypes(df)"
   ]
  },
  {
   "cell_type": "code",
   "execution_count": 457,
   "metadata": {},
   "outputs": [],
   "source": [
    "### All object columns are converted to numerical"
   ]
  },
  {
   "cell_type": "code",
   "execution_count": 458,
   "metadata": {},
   "outputs": [],
   "source": [
    "df.to_csv('./cleaned_data/all_cars_cleaned_data.csv',index=False)"
   ]
  },
  {
   "cell_type": "code",
   "execution_count": null,
   "metadata": {},
   "outputs": [],
   "source": []
  }
 ],
 "metadata": {
  "kernelspec": {
   "display_name": "Python 3 (ipykernel)",
   "language": "python",
   "name": "python3"
  },
  "language_info": {
   "codemirror_mode": {
    "name": "ipython",
    "version": 3
   },
   "file_extension": ".py",
   "mimetype": "text/x-python",
   "name": "python",
   "nbconvert_exporter": "python",
   "pygments_lexer": "ipython3",
   "version": "3.11.10"
  }
 },
 "nbformat": 4,
 "nbformat_minor": 4
}
