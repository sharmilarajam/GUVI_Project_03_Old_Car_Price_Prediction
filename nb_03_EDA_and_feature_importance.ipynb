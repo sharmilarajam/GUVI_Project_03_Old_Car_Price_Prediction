{
 "cells": [
  {
   "cell_type": "markdown",
   "metadata": {},
   "source": [
    "### Clean all data together so that the categorical conversion is applicable.!"
   ]
  },
  {
   "cell_type": "code",
   "execution_count": 3,
   "metadata": {},
   "outputs": [
    {
     "name": "stdout",
     "output_type": "stream",
     "text": [
      "(8369, 243)\n"
     ]
    },
    {
     "data": {
      "text/html": [
       "<div>\n",
       "<style scoped>\n",
       "    .dataframe tbody tr th:only-of-type {\n",
       "        vertical-align: middle;\n",
       "    }\n",
       "\n",
       "    .dataframe tbody tr th {\n",
       "        vertical-align: top;\n",
       "    }\n",
       "\n",
       "    .dataframe thead th {\n",
       "        text-align: right;\n",
       "    }\n",
       "</style>\n",
       "<table border=\"1\" class=\"dataframe\">\n",
       "  <thead>\n",
       "    <tr style=\"text-align: right;\">\n",
       "      <th></th>\n",
       "      <th>City</th>\n",
       "      <th>it</th>\n",
       "      <th>ft</th>\n",
       "      <th>bt</th>\n",
       "      <th>km</th>\n",
       "      <th>transmission</th>\n",
       "      <th>ownerNo</th>\n",
       "      <th>owner</th>\n",
       "      <th>oem</th>\n",
       "      <th>model</th>\n",
       "      <th>...</th>\n",
       "      <th>Front Brake Type</th>\n",
       "      <th>Rear Brake Type</th>\n",
       "      <th>Top Speed</th>\n",
       "      <th>Acceleration</th>\n",
       "      <th>Tyre Type</th>\n",
       "      <th>No Door Numbers</th>\n",
       "      <th>Cargo Volumn</th>\n",
       "      <th>Wheel Size</th>\n",
       "      <th>Alloy Wheel Size</th>\n",
       "      <th>Ground Clearance Unladen</th>\n",
       "    </tr>\n",
       "  </thead>\n",
       "  <tbody>\n",
       "    <tr>\n",
       "      <th>0</th>\n",
       "      <td>0</td>\n",
       "      <td>0</td>\n",
       "      <td>4</td>\n",
       "      <td>2</td>\n",
       "      <td>NaN</td>\n",
       "      <td>1</td>\n",
       "      <td>3</td>\n",
       "      <td>3</td>\n",
       "      <td>20</td>\n",
       "      <td>160</td>\n",
       "      <td>...</td>\n",
       "      <td>22</td>\n",
       "      <td>7</td>\n",
       "      <td>NaN</td>\n",
       "      <td>NaN</td>\n",
       "      <td>23</td>\n",
       "      <td>5.0</td>\n",
       "      <td>NaN</td>\n",
       "      <td>NaN</td>\n",
       "      <td>NaN</td>\n",
       "      <td>NaN</td>\n",
       "    </tr>\n",
       "    <tr>\n",
       "      <th>1</th>\n",
       "      <td>0</td>\n",
       "      <td>0</td>\n",
       "      <td>4</td>\n",
       "      <td>7</td>\n",
       "      <td>NaN</td>\n",
       "      <td>1</td>\n",
       "      <td>2</td>\n",
       "      <td>2</td>\n",
       "      <td>6</td>\n",
       "      <td>50</td>\n",
       "      <td>...</td>\n",
       "      <td>22</td>\n",
       "      <td>7</td>\n",
       "      <td>NaN</td>\n",
       "      <td>NaN</td>\n",
       "      <td>26</td>\n",
       "      <td>4.0</td>\n",
       "      <td>NaN</td>\n",
       "      <td>16.0</td>\n",
       "      <td>16.0</td>\n",
       "      <td>NaN</td>\n",
       "    </tr>\n",
       "  </tbody>\n",
       "</table>\n",
       "<p>2 rows × 243 columns</p>\n",
       "</div>"
      ],
      "text/plain": [
       "   City  it  ft  bt  km  transmission  ownerNo  owner  oem  model  ...  \\\n",
       "0     0   0   4   2 NaN             1        3      3   20    160  ...   \n",
       "1     0   0   4   7 NaN             1        2      2    6     50  ...   \n",
       "\n",
       "   Front Brake Type  Rear Brake Type  Top Speed  Acceleration  Tyre Type  \\\n",
       "0                22                7        NaN           NaN         23   \n",
       "1                22                7        NaN           NaN         26   \n",
       "\n",
       "   No Door Numbers  Cargo Volumn  Wheel Size  Alloy Wheel Size  \\\n",
       "0              5.0           NaN         NaN               NaN   \n",
       "1              4.0           NaN        16.0              16.0   \n",
       "\n",
       "   Ground Clearance Unladen  \n",
       "0                       NaN  \n",
       "1                       NaN  \n",
       "\n",
       "[2 rows x 243 columns]"
      ]
     },
     "execution_count": 3,
     "metadata": {},
     "output_type": "execute_result"
    }
   ],
   "source": [
    "import pandas as pd\n",
    "import json\n",
    "from pandas import json_normalize\n",
    "\n",
    "df=pd.read_csv(r'./cleaned_data/all_cars_cleaned_data.csv',header=[0])\n",
    "print(df.shape)\n",
    "df.head(2)"
   ]
  },
  {
   "cell_type": "code",
   "execution_count": 4,
   "metadata": {},
   "outputs": [
    {
     "name": "stdout",
     "output_type": "stream",
     "text": [
      "priceFixedText                 8369\n",
      "priceSaving                    8369\n",
      "Insurance Validity             8365\n",
      "km                             8353\n",
      "variantName                    8351\n",
      "                               ... \n",
      "Driver Air Bag                    0\n",
      "Fog Lights Front                  0\n",
      "Follow Me Home Headlamps          0\n",
      "Rear Window Washer                0\n",
      "Audio System Remote Control       0\n",
      "Length: 243, dtype: int64\n"
     ]
    }
   ],
   "source": [
    "# Count NaN values per column\n",
    "nan_counts = df.isna().sum().sort_values(ascending=False)\n",
    "\n",
    "# Display\n",
    "print(nan_counts)\n"
   ]
  },
  {
   "cell_type": "code",
   "execution_count": 5,
   "metadata": {},
   "outputs": [],
   "source": [
    "# Count NaN values per column\n",
    "nan_counts = df.isna().sum()\n",
    "\n",
    "# Filter columns with more than 100 NaNs\n",
    "cols_with_gt_100_nans = nan_counts[nan_counts > 100].index.tolist()\n",
    "\n",
    "# Drop those columns from the DataFrame\n",
    "df = df.drop(columns=cols_with_gt_100_nans)\n"
   ]
  },
  {
   "cell_type": "code",
   "execution_count": 6,
   "metadata": {},
   "outputs": [],
   "source": [
    "df=df.dropna()"
   ]
  },
  {
   "cell_type": "code",
   "execution_count": 7,
   "metadata": {},
   "outputs": [
    {
     "data": {
      "text/plain": [
       "(8244, 217)"
      ]
     },
     "execution_count": 7,
     "metadata": {},
     "output_type": "execute_result"
    }
   ],
   "source": [
    "df.shape"
   ]
  },
  {
   "cell_type": "code",
   "execution_count": 8,
   "metadata": {},
   "outputs": [],
   "source": [
    "df_x = df.drop(columns=['price'])\n",
    "df_y = df[['price']]"
   ]
  },
  {
   "cell_type": "code",
   "execution_count": 9,
   "metadata": {},
   "outputs": [
    {
     "name": "stdout",
     "output_type": "stream",
     "text": [
      "(8244, 216)\n",
      "(8244, 1)\n"
     ]
    }
   ],
   "source": [
    "print(df_x.shape)\n",
    "print(df_y.shape)"
   ]
  },
  {
   "cell_type": "markdown",
   "metadata": {},
   "source": [
    "### correlation table may be usefult o filter highly correlating variables"
   ]
  },
  {
   "cell_type": "code",
   "execution_count": 10,
   "metadata": {},
   "outputs": [],
   "source": [
    "##place holder(optional)"
   ]
  },
  {
   "cell_type": "markdown",
   "metadata": {},
   "source": [
    "### get the most important features"
   ]
  },
  {
   "cell_type": "code",
   "execution_count": 11,
   "metadata": {},
   "outputs": [
    {
     "name": "stdout",
     "output_type": "stream",
     "text": [
      "Top important features:\n",
      "Max Power                    0.681497\n",
      "Max Torque                   0.057968\n",
      "Year of Manufacture          0.043543\n",
      "modelYear                    0.037430\n",
      "Cruise Control               0.016364\n",
      "Kms Driven                   0.006464\n",
      "Engine Type                  0.006343\n",
      "centralVariantId             0.006204\n",
      "Speakers Rear                0.005716\n",
      "Touch Screen                 0.005271\n",
      "Cup Holders Rear             0.004427\n",
      "Rear Entertainment System    0.004343\n",
      "Tyre Pressure Monitor        0.004339\n",
      "Tailgate Ajar                0.004178\n",
      "Front Brake Type             0.003692\n",
      "RTO                          0.003642\n",
      "model                        0.003458\n",
      "Lane Watch Camera            0.003132\n",
      "Ventilated Seats             0.003089\n",
      "Displacement                 0.003027\n",
      "Drive Type                   0.002949\n",
      "Blind Spot Monitor           0.002597\n",
      "Engine Displacement          0.002571\n",
      "Voice Control                0.002374\n",
      "bt                           0.002283\n",
      "Rear Spoiler                 0.002164\n",
      "Tyre Type                    0.002134\n",
      "City                         0.002096\n",
      "Speakers Front               0.001984\n",
      "Rear Folding Table           0.001842\n",
      "dtype: float64\n"
     ]
    }
   ],
   "source": [
    "from sklearn.ensemble import RandomForestRegressor\n",
    "from sklearn.model_selection import train_test_split\n",
    "from sklearn.preprocessing import LabelEncoder\n",
    "import pandas as pd\n",
    "\n",
    "# Assume df_x (input features) and df_y (target) are already defined\n",
    "# Encode any categorical variables if needed\n",
    "df_x_encoded = df_x.copy()\n",
    "\n",
    "for col in df_x_encoded.select_dtypes(include='object').columns:\n",
    "    df_x_encoded[col] = LabelEncoder().fit_transform(df_x_encoded[col].astype(str))\n",
    "\n",
    "# Split data\n",
    "X_train, X_test, y_train, y_test = train_test_split(df_x_encoded, df_y, test_size=0.2, random_state=42)\n",
    "\n",
    "# Train Random Forest\n",
    "rf = RandomForestRegressor(n_estimators=100, random_state=42)\n",
    "rf.fit(X_train, y_train.values.ravel())\n",
    "\n",
    "# Get feature importances\n",
    "importances = pd.Series(rf.feature_importances_, index=df_x_encoded.columns)\n",
    "importances_sorted = importances.sort_values(ascending=False)\n",
    "\n",
    "# Display top features\n",
    "print(\"Top important features:\")\n",
    "print(importances_sorted.head(30))\n",
    "important_cols = importances_sorted.index.tolist()[:12]"
   ]
  },
  {
   "cell_type": "code",
   "execution_count": 12,
   "metadata": {},
   "outputs": [],
   "source": [
    "#important_cols"
   ]
  },
  {
   "cell_type": "code",
   "execution_count": 13,
   "metadata": {},
   "outputs": [],
   "source": [
    "important_cols=['transmission','model','Year of Manufacture','City','ft','bt','Ownership','Kms Driven','Engine Type']"
   ]
  },
  {
   "cell_type": "code",
   "execution_count": 14,
   "metadata": {},
   "outputs": [
    {
     "name": "stdout",
     "output_type": "stream",
     "text": [
      "(8244, 10)\n"
     ]
    }
   ],
   "source": [
    "df_imp = df[important_cols + ['price']]\n",
    "print(df_imp.shape)"
   ]
  },
  {
   "cell_type": "code",
   "execution_count": 15,
   "metadata": {},
   "outputs": [],
   "source": [
    "df_imp.to_csv(r'./feature_importance/feature_imp_data.csv',index=False)"
   ]
  }
 ],
 "metadata": {
  "kernelspec": {
   "display_name": "base",
   "language": "python",
   "name": "python3"
  },
  "language_info": {
   "codemirror_mode": {
    "name": "ipython",
    "version": 3
   },
   "file_extension": ".py",
   "mimetype": "text/x-python",
   "name": "python",
   "nbconvert_exporter": "python",
   "pygments_lexer": "ipython3",
   "version": "3.12.4"
  }
 },
 "nbformat": 4,
 "nbformat_minor": 4
}
